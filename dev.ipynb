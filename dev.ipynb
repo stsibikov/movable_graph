{
 "cells": [
  {
   "cell_type": "code",
   "execution_count": 1,
   "id": "79b75404",
   "metadata": {},
   "outputs": [],
   "source": [
    "import pandas as pd\n",
    "import plotly.express as px"
   ]
  },
  {
   "cell_type": "code",
   "execution_count": 2,
   "id": "79dc4fa9",
   "metadata": {},
   "outputs": [],
   "source": [
    "df = pd.read_csv('df.csv')"
   ]
  },
  {
   "cell_type": "code",
   "execution_count": 3,
   "id": "400f66c7",
   "metadata": {},
   "outputs": [
    {
     "data": {
      "application/vnd.plotly.v1+json": {
       "config": {
        "plotlyServerURL": "https://plot.ly"
       },
       "data": [
        {
         "hovertemplate": "variable=target<br>object=Object A<br>x=%{x}<br>value=%{y}<extra></extra>",
         "legendgroup": "target",
         "line": {
          "color": "#636efa",
          "dash": "solid"
         },
         "marker": {
          "symbol": "circle"
         },
         "mode": "lines",
         "name": "target",
         "orientation": "v",
         "showlegend": true,
         "type": "scatter",
         "x": {
          "bdata": "AAECAwQFBgcICQoLDA0ODxAREhMUFRYXGBkaGxwdHh8gISIjJCUmJygpKissLS4vMDE=",
          "dtype": "i1"
         },
         "xaxis": "x",
         "y": {
          "bdata": "Z6C5XHKUxj/dQVVVO43OP43g+V/LL98/7j4xdUo96T+2cuEOfO7sP5scXIi+zOc/UFbOzslu8D8oqwv3zwzvP96N/Dfzp+8/0aR8oA898D99byML947tP6GPDhyLhu4/JjSKI9YM6D/TllnVqeLgP5ksDN+rR9g//DzmvZpVxj/bQ8ge/U23P0/7063qqtG/dHtoJ1NR2r817snbA1DmvwFNeFGRMfC/y4qvHoHM6b+lNjnIYK/rv6QmQi4mFvG/rDyHjjKd6L8f1zxGdqvxv6d7CnHGH+y/BCil49NT6b+X4TL8XZfevw1a9gqlVNS/L2iC4RPk0L8INwHdCi6nv/h2RnDnb5w/jROTutMLvT/xs1OsiGXdPxQJxoMdhuU/SlTbzZRV7T/r5s9nmk3wPyGh5lrmu+0/ikonsWv87j8BpHwh2U3sP4O0bp8vj+k/TW3UAxnj5T/OBUOYQb7tP2kTn3MiFuE/aTkaiGiS1z/Uj7Bl/vy4P4/3CAcLP7o/2oHsVWF81b81jWGe8tDYvw==",
          "dtype": "f8"
         },
         "yaxis": "y"
        },
        {
         "hovertemplate": "variable=pred_init<br>object=Object A<br>x=%{x}<br>value=%{y}<extra></extra>",
         "legendgroup": "pred_init",
         "line": {
          "color": "#EF553B",
          "dash": "solid"
         },
         "marker": {
          "symbol": "circle"
         },
         "mode": "lines",
         "name": "pred_init",
         "orientation": "v",
         "showlegend": true,
         "type": "scatter",
         "x": {
          "bdata": "AAECAwQFBgcICQoLDA0ODxAREhMUFRYXGBkaGxwdHh8gISIjJCUmJygpKissLS4vMDE=",
          "dtype": "i1"
         },
         "xaxis": "x",
         "y": {
          "bdata": "9A0yrE4FZr8q9XIBazrUP8Ft9/f8pdg/qGG4bfGu4T9qIyOTT8DsPxYowPCFiuo/4Cn/ekel8D8Vi97vMH7wP0HZwz+tmOs/egnalM4n7j/+SmSwNEHpP0C9T5VzOew/fahW3pPY4j97vUK5SVnHPwyvBbUPjdo/21S+X/wYuD+Qoz5rrBTOv+HlZpLxfMe/Ev3IFy734r8QJV1h6Prlv0cV8+OXuOu/29ESxC356L8Sn0x/lWTkv1lArOy3CfW/nsnHPQAK5r82QAxcddzzv9W8eZ4+2fC/unQaCTcI7b9hHI2YIUrhv0AAnCOanNO/KXOcaArO37/zNNpWJUTBP7Jfy7mB874/NeLuWQPOyL9KAbOMHjnoP9nZ+4gr1PA/JMdJZXJw8j+gHHfdanTvP3lbnSeU4eY/ODWcZgTe8j+LsnB2SLnpPxUirR8FsfA/XJJO31U45z9XKCfZMP/xP7wSMFoBXuM/EWBFiNpO4D+c456enoa5P8f+FoKza90/EpB6wYPc07+DBud/tavTvw==",
          "dtype": "f8"
         },
         "yaxis": "y"
        },
        {
         "hovertemplate": "variable=pred<br>object=Object A<br>x=%{x}<br>value=%{y}<extra></extra>",
         "legendgroup": "pred",
         "line": {
          "color": "#00cc96",
          "dash": "solid"
         },
         "marker": {
          "symbol": "circle"
         },
         "mode": "lines",
         "name": "pred",
         "orientation": "v",
         "showlegend": true,
         "type": "scatter",
         "x": {
          "bdata": "AAECAwQFBgcICQoLDA0ODxAREhMUFRYXGBkaGxwdHh8gISIjJCUmJygpKissLS4vMDE=",
          "dtype": "i1"
         },
         "xaxis": "x",
         "y": {
          "bdata": "d4olAfuDcL+/byyCoFfeP1GS+bl9fOI/tXGbJGqG6j+PWlquO5D1P3SujHTk5/M/0L5+OOv3+D8EYcpnSb34P41S1u+BsvQ/t/am79qd9j8/OEuE5/DyP/DN+68WK/U/89uIzd1E7D8cDvJK94LRPxFkvcfL6eM/pL/OR70Swj88PGFQgY/Wv9nq2i21ndG/nHutI8Vy7L9oSwlJLnzwv1ng8upxyvS/AI0RU+K68r9iD+w+4JbuvyLQBeOTjv+/N9dVLoCH8L+18A4KsMr9v0Cbtu3dRfm/KEfXRinG9b/KidpkMu/pv2AAajXnat2/X1Z1zofa579MzGICOObJP8WHWEuhNsc/qClzg4Ka0r/3QIbp1iryP8bGeU1BPvk/tqrul6uo+z8UxRwmUJf3P5oEth0vKfE/cL/tmQZN/D9MFtFY9krzPyCzg6+HCfk/xe16Z0Bq8T/mTLdFyf76PxkcSAcCDe0/Ue9uzEd26D+1Kvf29iTDPxU/kaHGEOY/G9g3osXK3b/Eido/kIHdvw==",
          "dtype": "f8"
         },
         "yaxis": "y"
        }
       ],
       "frames": [
        {
         "data": [
          {
           "hovertemplate": "variable=target<br>object=Object A<br>x=%{x}<br>value=%{y}<extra></extra>",
           "legendgroup": "target",
           "line": {
            "color": "#636efa",
            "dash": "solid"
           },
           "marker": {
            "symbol": "circle"
           },
           "mode": "lines",
           "name": "target",
           "orientation": "v",
           "showlegend": true,
           "type": "scatter",
           "x": {
            "bdata": "AAECAwQFBgcICQoLDA0ODxAREhMUFRYXGBkaGxwdHh8gISIjJCUmJygpKissLS4vMDE=",
            "dtype": "i1"
           },
           "xaxis": "x",
           "y": {
            "bdata": "Z6C5XHKUxj/dQVVVO43OP43g+V/LL98/7j4xdUo96T+2cuEOfO7sP5scXIi+zOc/UFbOzslu8D8oqwv3zwzvP96N/Dfzp+8/0aR8oA898D99byML947tP6GPDhyLhu4/JjSKI9YM6D/TllnVqeLgP5ksDN+rR9g//DzmvZpVxj/bQ8ge/U23P0/7063qqtG/dHtoJ1NR2r817snbA1DmvwFNeFGRMfC/y4qvHoHM6b+lNjnIYK/rv6QmQi4mFvG/rDyHjjKd6L8f1zxGdqvxv6d7CnHGH+y/BCil49NT6b+X4TL8XZfevw1a9gqlVNS/L2iC4RPk0L8INwHdCi6nv/h2RnDnb5w/jROTutMLvT/xs1OsiGXdPxQJxoMdhuU/SlTbzZRV7T/r5s9nmk3wPyGh5lrmu+0/ikonsWv87j8BpHwh2U3sP4O0bp8vj+k/TW3UAxnj5T/OBUOYQb7tP2kTn3MiFuE/aTkaiGiS1z/Uj7Bl/vy4P4/3CAcLP7o/2oHsVWF81b81jWGe8tDYvw==",
            "dtype": "f8"
           },
           "yaxis": "y"
          },
          {
           "hovertemplate": "variable=pred_init<br>object=Object A<br>x=%{x}<br>value=%{y}<extra></extra>",
           "legendgroup": "pred_init",
           "line": {
            "color": "#EF553B",
            "dash": "solid"
           },
           "marker": {
            "symbol": "circle"
           },
           "mode": "lines",
           "name": "pred_init",
           "orientation": "v",
           "showlegend": true,
           "type": "scatter",
           "x": {
            "bdata": "AAECAwQFBgcICQoLDA0ODxAREhMUFRYXGBkaGxwdHh8gISIjJCUmJygpKissLS4vMDE=",
            "dtype": "i1"
           },
           "xaxis": "x",
           "y": {
            "bdata": "9A0yrE4FZr8q9XIBazrUP8Ft9/f8pdg/qGG4bfGu4T9qIyOTT8DsPxYowPCFiuo/4Cn/ekel8D8Vi97vMH7wP0HZwz+tmOs/egnalM4n7j/+SmSwNEHpP0C9T5VzOew/fahW3pPY4j97vUK5SVnHPwyvBbUPjdo/21S+X/wYuD+Qoz5rrBTOv+HlZpLxfMe/Ev3IFy734r8QJV1h6Prlv0cV8+OXuOu/29ESxC356L8Sn0x/lWTkv1lArOy3CfW/nsnHPQAK5r82QAxcddzzv9W8eZ4+2fC/unQaCTcI7b9hHI2YIUrhv0AAnCOanNO/KXOcaArO37/zNNpWJUTBP7Jfy7mB874/NeLuWQPOyL9KAbOMHjnoP9nZ+4gr1PA/JMdJZXJw8j+gHHfdanTvP3lbnSeU4eY/ODWcZgTe8j+LsnB2SLnpPxUirR8FsfA/XJJO31U45z9XKCfZMP/xP7wSMFoBXuM/EWBFiNpO4D+c456enoa5P8f+FoKza90/EpB6wYPc07+DBud/tavTvw==",
            "dtype": "f8"
           },
           "yaxis": "y"
          },
          {
           "hovertemplate": "variable=pred<br>object=Object A<br>x=%{x}<br>value=%{y}<extra></extra>",
           "legendgroup": "pred",
           "line": {
            "color": "#00cc96",
            "dash": "solid"
           },
           "marker": {
            "symbol": "circle"
           },
           "mode": "lines",
           "name": "pred",
           "orientation": "v",
           "showlegend": true,
           "type": "scatter",
           "x": {
            "bdata": "AAECAwQFBgcICQoLDA0ODxAREhMUFRYXGBkaGxwdHh8gISIjJCUmJygpKissLS4vMDE=",
            "dtype": "i1"
           },
           "xaxis": "x",
           "y": {
            "bdata": "d4olAfuDcL+/byyCoFfeP1GS+bl9fOI/tXGbJGqG6j+PWlquO5D1P3SujHTk5/M/0L5+OOv3+D8EYcpnSb34P41S1u+BsvQ/t/am79qd9j8/OEuE5/DyP/DN+68WK/U/89uIzd1E7D8cDvJK94LRPxFkvcfL6eM/pL/OR70Swj88PGFQgY/Wv9nq2i21ndG/nHutI8Vy7L9oSwlJLnzwv1ng8upxyvS/AI0RU+K68r9iD+w+4JbuvyLQBeOTjv+/N9dVLoCH8L+18A4KsMr9v0Cbtu3dRfm/KEfXRinG9b/KidpkMu/pv2AAajXnat2/X1Z1zofa579MzGICOObJP8WHWEuhNsc/qClzg4Ka0r/3QIbp1iryP8bGeU1BPvk/tqrul6uo+z8UxRwmUJf3P5oEth0vKfE/cL/tmQZN/D9MFtFY9krzPyCzg6+HCfk/xe16Z0Bq8T/mTLdFyf76PxkcSAcCDe0/Ue9uzEd26D+1Kvf29iTDPxU/kaHGEOY/G9g3osXK3b/Eido/kIHdvw==",
            "dtype": "f8"
           },
           "yaxis": "y"
          }
         ],
         "name": "Object A"
        },
        {
         "data": [
          {
           "hovertemplate": "variable=target<br>object=Object B<br>x=%{x}<br>value=%{y}<extra></extra>",
           "legendgroup": "target",
           "line": {
            "color": "#636efa",
            "dash": "solid"
           },
           "marker": {
            "symbol": "circle"
           },
           "mode": "lines",
           "name": "target",
           "orientation": "v",
           "showlegend": true,
           "type": "scatter",
           "x": {
            "bdata": "AAECAwQFBgcICQoLDA0ODxAREhMUFRYXGBkaGxwdHh8gISIjJCUmJygpKissLS4vMDE=",
            "dtype": "i1"
           },
           "xaxis": "x",
           "y": {
            "bdata": "iEzaTLUayD+OFITJUVuwP3+gP+GqytA/HJweUa4r5T/WY4TzjjPjP5h5c7vFkvA/I1wqcm2A7D9vk508fSTtP0Mw6vnjEfM/u8gte0zz8T8qcYg1b4nxP9KW1y9vxew/+NPX1+Db4j949fFitpvmP6CTkmBZudM/pC5zpLVVzD+hgjLympyiP6LT9wLBWNG/D+2ptSVk2L/eKkA+3qDgv7fzCrZbA+e/xlZW7pNo77/TmjodNX/tvwWzyMq9jeu/rFcJBckM8b9FwBeZFirvv0EGJgO9qe2/TlK/4JHP4r+wFayplwzivzorC+Z0INu/FEynv1/P1r8678heS92dvwN4t225Jak/j1kJ5HEk1D/giB1uyI3bP2tMahorMOc/zQikARI+6z/V5MEQlBfsP3pzyKbNHvA/E3WYj6F07D9ybs09L+PqP8DzPhZqgu8/jQJQxmnh6z9aj2QWZojpP07IrPHpV+o/UkJbz8o14D+ZeqlVhdjAP7i7b4IUeME/hlFjFieU078uJzd+p2javw==",
            "dtype": "f8"
           },
           "yaxis": "y"
          },
          {
           "hovertemplate": "variable=pred_init<br>object=Object B<br>x=%{x}<br>value=%{y}<extra></extra>",
           "legendgroup": "pred_init",
           "line": {
            "color": "#EF553B",
            "dash": "solid"
           },
           "marker": {
            "symbol": "circle"
           },
           "mode": "lines",
           "name": "pred_init",
           "orientation": "v",
           "showlegend": true,
           "type": "scatter",
           "x": {
            "bdata": "AAECAwQFBgcICQoLDA0ODxAREhMUFRYXGBkaGxwdHh8gISIjJCUmJygpKissLS4vMDE=",
            "dtype": "i1"
           },
           "xaxis": "x",
           "y": {
            "bdata": "gcN34npbxj9dwCl+HAXaPztCMAQFCb0/aRJ9vUnD3z9EmTH4QJLiP9tbWYCA5uw/TIuTZifb8T9YYuUhITvmP2MScLfEy+4/CEWF9qKM8D/uxtR35OLvP9YJR8tjj/Q/Z42/ymjv6D+CWOsJKCvnP2BDzDpeJ7A/NNu50qn52D/qBeIn3PPEvw4CBXdUj+K/0gvILGxewr8DwNbALTPdv6q/tYafHuG/WSgw3V9e7b/mZM9OYAPov+vHjbdhuO+/lWHRdglc9L/RxfAiXc3qvxT1ebkFZ/G/AVtiBFQ557/sycrX7/bkv+L0OlEu59q/6BpMXVdX27/lAOJzRXfTv+sWikcsYbS/zBRLtmeiwL9OaetKRcfhP00b/9a23tk/1HmBD6Ys5D+yAHevC23sP3LJexnoges/mfsbZVoq8z/uiiHA95ziP0lDgqv5m/A/lPDYXQ2h6z/iCxQqmA7iP/3eQxVAse0/d62kIHY53j/EWKCBQ03SP8gbspt/RtM/lzHjgK04wD8IBRotPZrCvw==",
            "dtype": "f8"
           },
           "yaxis": "y"
          },
          {
           "hovertemplate": "variable=pred<br>object=Object B<br>x=%{x}<br>value=%{y}<extra></extra>",
           "legendgroup": "pred",
           "line": {
            "color": "#00cc96",
            "dash": "solid"
           },
           "marker": {
            "symbol": "circle"
           },
           "mode": "lines",
           "name": "pred",
           "orientation": "v",
           "showlegend": true,
           "type": "scatter",
           "x": {
            "bdata": "AAECAwQFBgcICQoLDA0ODxAREhMUFRYXGBkaGxwdHh8gISIjJCUmJygpKissLS4vMDE=",
            "dtype": "i1"
           },
           "xaxis": "x",
           "y": {
            "bdata": "gcN34npbxj8JGjJkVTnPPztCMAQFCb0/2dcX2MUO0z9EmTH4QJLiP0qDoeYZV+E/TIuTZifb8T/WKXT1Wq3aP2MScLfEy+4/nThywfbb4z/uxtR35OLvP6K/T1oRrOg/Z42/ymjv6D91aw8/Y83bP2BDzDpeJ7A/8m8vY2X4zT/qBeIn3PPEv+RPzY6YRda/0gvILGxewr8PDqlzG4XRv6q/tYafHuG/Ccx9UQaf4b/mZM9OYAPov+2QWqE6COO/lWHRdglc9L99Q1170RTgvxT1ebkFZ/G/yB8V0mTe27/sycrX7/bkvyHGif1OJNC/6BpMXVdX278snV/x7FvHv+sWikcsYbS/jq0fDhb2s79OaetKRcfhP9y34c5BC88/1HmBD6Ys5D/+shk2Og7hP3LJexnoges/F3qNrJ//5j/uiiHA95ziP0LEzM1e7uM/lPDYXQ2h6z91QUv/HKvVP/3eQxVAse0/ToKQE3oi0j/EWKCBQ03SP6PrHu5lIcc/lzHjgK04wD9W0M7Pr1K2vw==",
            "dtype": "f8"
           },
           "yaxis": "y"
          }
         ],
         "name": "Object B"
        },
        {
         "data": [
          {
           "hovertemplate": "variable=target<br>object=Object C<br>x=%{x}<br>value=%{y}<extra></extra>",
           "legendgroup": "target",
           "line": {
            "color": "#636efa",
            "dash": "solid"
           },
           "marker": {
            "symbol": "circle"
           },
           "mode": "lines",
           "name": "target",
           "orientation": "v",
           "showlegend": true,
           "type": "scatter",
           "x": {
            "bdata": "AAECAwQFBgcICQoLDA0ODxAREhMUFRYXGBkaGxwdHh8gISIjJCUmJygpKissLS4vMDE=",
            "dtype": "i1"
           },
           "xaxis": "x",
           "y": {
            "bdata": "b/EYsPDmor+CnTVUmV3GP232MpPp9d8/D55V21cq5D8t2V0S+gDpP+s0bky4wOU/8qI6E1a/7T+KK46SNSztP+AoqhzpcPA/u6LP4FrZ7j9HemyiSgHwP0dV5VQR4+o/bdbM4o0h6D8N8AgeywHePw72tVUhys4/7eQNoSOhuT8iCvhBTsKuvzKm1Zoq28u/QVMW0TS5y7/Po3n39LbjvwV0ThDWRuu/pZb3gmD/7L9LYqpQTe/vvzXMmBfjQe6/kWDyk2Zn8r/37Wb1rnvuvxPz7+UMxeu/HvC1skj8578GTeBZqBzmv3v7xmLaQd+/mpl7+h//2r9VVj8kL/PAv3yQ2ITx4K8/EDRsOfOZ1j9PlaOLQznYP6/GKeD9hec/hITtRQIu7j/bsTEofCLmP/sqNc4xK/A/Wnb2iUsP8T//kHNkop7tP046wgcF1ew/1955uwTs6j/pLZYRO4zmP6cXWYt/uuE/YLlEh15Mzz+gAZDyzqPVPxyIXwyJ/cA/CD1SNslc0L+uMvXofWvgvw==",
            "dtype": "f8"
           },
           "yaxis": "y"
          },
          {
           "hovertemplate": "variable=pred_init<br>object=Object C<br>x=%{x}<br>value=%{y}<extra></extra>",
           "legendgroup": "pred_init",
           "line": {
            "color": "#EF553B",
            "dash": "solid"
           },
           "marker": {
            "symbol": "circle"
           },
           "mode": "lines",
           "name": "pred_init",
           "orientation": "v",
           "showlegend": true,
           "type": "scatter",
           "x": {
            "bdata": "AAECAwQFBgcICQoLDA0ODxAREhMUFRYXGBkaGxwdHh8gISIjJCUmJygpKissLS4vMDE=",
            "dtype": "i1"
           },
           "xaxis": "x",
           "y": {
            "bdata": "9AKvQDs6sT+r8napdYCuP2AteEKI4+A/e5qWzycf4j80Z1py/m3tPy/ZrzX/Muo/7gX2eYQa6T90Nd+stFHkP0t0Kb1VwOY//OHKRbNg8T8NshWOwWboPwoVQiWzpOc/zmp2po1Q5D/xTC15ilXdP0yGjh55x8K//p6Ovr+lwT+PJu7jLuOmP+/GpPWul8m/4JmeoVDX0b81CElgYBfjv3Y9KuUJuei/9oipGf9e9784vLE7vGrjvwbk+hfCwuu/UN8Dk9p99L+r+DlYHH7wv0CxUJYanOi/IPc7OIK66L+upyST3Y3xv0/4gwKxU7O/YkbRM1hp3L+wFF5OPVWyP90WBTJdfrO/YODL2iwi5T9Z4oMKjuPbP4kWGn2Fa+s/5kpaPHd95z+v+mtP0+LtP0un6ihLYPI/c9s2e8Q59T+uhzhgk5npPzVQQKLnwOk/8Omet2DV9D8aGKFqAIffPzPIaBvC2+A/XLSv3Iwz3j87hYiXCOTWP3sJOgf76c8/XTE6WLN51b8tvDBxYhrcvw==",
            "dtype": "f8"
           },
           "yaxis": "y"
          },
          {
           "hovertemplate": "variable=pred<br>object=Object C<br>x=%{x}<br>value=%{y}<extra></extra>",
           "legendgroup": "pred",
           "line": {
            "color": "#00cc96",
            "dash": "solid"
           },
           "marker": {
            "symbol": "circle"
           },
           "mode": "lines",
           "name": "pred",
           "orientation": "v",
           "showlegend": true,
           "type": "scatter",
           "x": {
            "bdata": "AAECAwQFBgcICQoLDA0ODxAREhMUFRYXGBkaGxwdHh8gISIjJCUmJygpKissLS4vMDE=",
            "dtype": "i1"
           },
           "xaxis": "x",
           "y": {
            "bdata": "9AKvQDs6sT+r8napdYCuP2AteEKI4+A/e5qWzycf4j80Z1py/m3tPy/ZrzX/Muo/7gX2eYQa6T90Nd+stFHkP0t0Kb1VwOY//OHKRbNg8T8NshWOwWboPwoVQiWzpOc/zmp2po1Q5D/xTC15ilXdP0yGjh55x8K//p6Ovr+lwT+PJu7jLuOmP+/GpPWul8m/4JmeoVDX0b81CElgYBfjv3Y9KuUJuei/9oipGf9e9784vLE7vGrjvwbk+hfCwuu/UN8Dk9p99L+r+DlYHH7wv0CxUJYanOi/IPc7OIK66L+upyST3Y3xv0/4gwKxU7O/YkbRM1hp3L+wFF5OPVWyP90WBTJdfrO/YODL2iwi5T9Z4oMKjuPbP4kWGn2Fa+s/5kpaPHd95z+v+mtP0+LtP0un6ihLYPI/c9s2e8Q59T+uhzhgk5npPzVQQKLnwOk/8Omet2DV9D8aGKFqAIffPzPIaBvC2+A/XLSv3Iwz3j87hYiXCOTWP3sJOgf76c8/XTE6WLN51b8tvDBxYhrcvw==",
            "dtype": "f8"
           },
           "yaxis": "y"
          }
         ],
         "name": "Object C"
        }
       ],
       "layout": {
        "legend": {
         "title": {
          "text": "variable"
         },
         "tracegroupgap": 0
        },
        "margin": {
         "t": 60
        },
        "sliders": [
         {
          "active": 0,
          "currentvalue": {
           "prefix": "object="
          },
          "len": 0.9,
          "pad": {
           "b": 10,
           "t": 60
          },
          "steps": [
           {
            "args": [
             [
              "Object A"
             ],
             {
              "frame": {
               "duration": 0,
               "redraw": false
              },
              "fromcurrent": true,
              "mode": "immediate",
              "transition": {
               "duration": 0,
               "easing": "linear"
              }
             }
            ],
            "label": "Object A",
            "method": "animate"
           },
           {
            "args": [
             [
              "Object B"
             ],
             {
              "frame": {
               "duration": 0,
               "redraw": false
              },
              "fromcurrent": true,
              "mode": "immediate",
              "transition": {
               "duration": 0,
               "easing": "linear"
              }
             }
            ],
            "label": "Object B",
            "method": "animate"
           },
           {
            "args": [
             [
              "Object C"
             ],
             {
              "frame": {
               "duration": 0,
               "redraw": false
              },
              "fromcurrent": true,
              "mode": "immediate",
              "transition": {
               "duration": 0,
               "easing": "linear"
              }
             }
            ],
            "label": "Object C",
            "method": "animate"
           }
          ],
          "x": 0.1,
          "xanchor": "left",
          "y": 0,
          "yanchor": "top"
         }
        ],
        "template": {
         "data": {
          "bar": [
           {
            "error_x": {
             "color": "#2a3f5f"
            },
            "error_y": {
             "color": "#2a3f5f"
            },
            "marker": {
             "line": {
              "color": "#E5ECF6",
              "width": 0.5
             },
             "pattern": {
              "fillmode": "overlay",
              "size": 10,
              "solidity": 0.2
             }
            },
            "type": "bar"
           }
          ],
          "barpolar": [
           {
            "marker": {
             "line": {
              "color": "#E5ECF6",
              "width": 0.5
             },
             "pattern": {
              "fillmode": "overlay",
              "size": 10,
              "solidity": 0.2
             }
            },
            "type": "barpolar"
           }
          ],
          "carpet": [
           {
            "aaxis": {
             "endlinecolor": "#2a3f5f",
             "gridcolor": "white",
             "linecolor": "white",
             "minorgridcolor": "white",
             "startlinecolor": "#2a3f5f"
            },
            "baxis": {
             "endlinecolor": "#2a3f5f",
             "gridcolor": "white",
             "linecolor": "white",
             "minorgridcolor": "white",
             "startlinecolor": "#2a3f5f"
            },
            "type": "carpet"
           }
          ],
          "choropleth": [
           {
            "colorbar": {
             "outlinewidth": 0,
             "ticks": ""
            },
            "type": "choropleth"
           }
          ],
          "contour": [
           {
            "colorbar": {
             "outlinewidth": 0,
             "ticks": ""
            },
            "colorscale": [
             [
              0,
              "#0d0887"
             ],
             [
              0.1111111111111111,
              "#46039f"
             ],
             [
              0.2222222222222222,
              "#7201a8"
             ],
             [
              0.3333333333333333,
              "#9c179e"
             ],
             [
              0.4444444444444444,
              "#bd3786"
             ],
             [
              0.5555555555555556,
              "#d8576b"
             ],
             [
              0.6666666666666666,
              "#ed7953"
             ],
             [
              0.7777777777777778,
              "#fb9f3a"
             ],
             [
              0.8888888888888888,
              "#fdca26"
             ],
             [
              1,
              "#f0f921"
             ]
            ],
            "type": "contour"
           }
          ],
          "contourcarpet": [
           {
            "colorbar": {
             "outlinewidth": 0,
             "ticks": ""
            },
            "type": "contourcarpet"
           }
          ],
          "heatmap": [
           {
            "colorbar": {
             "outlinewidth": 0,
             "ticks": ""
            },
            "colorscale": [
             [
              0,
              "#0d0887"
             ],
             [
              0.1111111111111111,
              "#46039f"
             ],
             [
              0.2222222222222222,
              "#7201a8"
             ],
             [
              0.3333333333333333,
              "#9c179e"
             ],
             [
              0.4444444444444444,
              "#bd3786"
             ],
             [
              0.5555555555555556,
              "#d8576b"
             ],
             [
              0.6666666666666666,
              "#ed7953"
             ],
             [
              0.7777777777777778,
              "#fb9f3a"
             ],
             [
              0.8888888888888888,
              "#fdca26"
             ],
             [
              1,
              "#f0f921"
             ]
            ],
            "type": "heatmap"
           }
          ],
          "histogram": [
           {
            "marker": {
             "pattern": {
              "fillmode": "overlay",
              "size": 10,
              "solidity": 0.2
             }
            },
            "type": "histogram"
           }
          ],
          "histogram2d": [
           {
            "colorbar": {
             "outlinewidth": 0,
             "ticks": ""
            },
            "colorscale": [
             [
              0,
              "#0d0887"
             ],
             [
              0.1111111111111111,
              "#46039f"
             ],
             [
              0.2222222222222222,
              "#7201a8"
             ],
             [
              0.3333333333333333,
              "#9c179e"
             ],
             [
              0.4444444444444444,
              "#bd3786"
             ],
             [
              0.5555555555555556,
              "#d8576b"
             ],
             [
              0.6666666666666666,
              "#ed7953"
             ],
             [
              0.7777777777777778,
              "#fb9f3a"
             ],
             [
              0.8888888888888888,
              "#fdca26"
             ],
             [
              1,
              "#f0f921"
             ]
            ],
            "type": "histogram2d"
           }
          ],
          "histogram2dcontour": [
           {
            "colorbar": {
             "outlinewidth": 0,
             "ticks": ""
            },
            "colorscale": [
             [
              0,
              "#0d0887"
             ],
             [
              0.1111111111111111,
              "#46039f"
             ],
             [
              0.2222222222222222,
              "#7201a8"
             ],
             [
              0.3333333333333333,
              "#9c179e"
             ],
             [
              0.4444444444444444,
              "#bd3786"
             ],
             [
              0.5555555555555556,
              "#d8576b"
             ],
             [
              0.6666666666666666,
              "#ed7953"
             ],
             [
              0.7777777777777778,
              "#fb9f3a"
             ],
             [
              0.8888888888888888,
              "#fdca26"
             ],
             [
              1,
              "#f0f921"
             ]
            ],
            "type": "histogram2dcontour"
           }
          ],
          "mesh3d": [
           {
            "colorbar": {
             "outlinewidth": 0,
             "ticks": ""
            },
            "type": "mesh3d"
           }
          ],
          "parcoords": [
           {
            "line": {
             "colorbar": {
              "outlinewidth": 0,
              "ticks": ""
             }
            },
            "type": "parcoords"
           }
          ],
          "pie": [
           {
            "automargin": true,
            "type": "pie"
           }
          ],
          "scatter": [
           {
            "fillpattern": {
             "fillmode": "overlay",
             "size": 10,
             "solidity": 0.2
            },
            "type": "scatter"
           }
          ],
          "scatter3d": [
           {
            "line": {
             "colorbar": {
              "outlinewidth": 0,
              "ticks": ""
             }
            },
            "marker": {
             "colorbar": {
              "outlinewidth": 0,
              "ticks": ""
             }
            },
            "type": "scatter3d"
           }
          ],
          "scattercarpet": [
           {
            "marker": {
             "colorbar": {
              "outlinewidth": 0,
              "ticks": ""
             }
            },
            "type": "scattercarpet"
           }
          ],
          "scattergeo": [
           {
            "marker": {
             "colorbar": {
              "outlinewidth": 0,
              "ticks": ""
             }
            },
            "type": "scattergeo"
           }
          ],
          "scattergl": [
           {
            "marker": {
             "colorbar": {
              "outlinewidth": 0,
              "ticks": ""
             }
            },
            "type": "scattergl"
           }
          ],
          "scattermap": [
           {
            "marker": {
             "colorbar": {
              "outlinewidth": 0,
              "ticks": ""
             }
            },
            "type": "scattermap"
           }
          ],
          "scattermapbox": [
           {
            "marker": {
             "colorbar": {
              "outlinewidth": 0,
              "ticks": ""
             }
            },
            "type": "scattermapbox"
           }
          ],
          "scatterpolar": [
           {
            "marker": {
             "colorbar": {
              "outlinewidth": 0,
              "ticks": ""
             }
            },
            "type": "scatterpolar"
           }
          ],
          "scatterpolargl": [
           {
            "marker": {
             "colorbar": {
              "outlinewidth": 0,
              "ticks": ""
             }
            },
            "type": "scatterpolargl"
           }
          ],
          "scatterternary": [
           {
            "marker": {
             "colorbar": {
              "outlinewidth": 0,
              "ticks": ""
             }
            },
            "type": "scatterternary"
           }
          ],
          "surface": [
           {
            "colorbar": {
             "outlinewidth": 0,
             "ticks": ""
            },
            "colorscale": [
             [
              0,
              "#0d0887"
             ],
             [
              0.1111111111111111,
              "#46039f"
             ],
             [
              0.2222222222222222,
              "#7201a8"
             ],
             [
              0.3333333333333333,
              "#9c179e"
             ],
             [
              0.4444444444444444,
              "#bd3786"
             ],
             [
              0.5555555555555556,
              "#d8576b"
             ],
             [
              0.6666666666666666,
              "#ed7953"
             ],
             [
              0.7777777777777778,
              "#fb9f3a"
             ],
             [
              0.8888888888888888,
              "#fdca26"
             ],
             [
              1,
              "#f0f921"
             ]
            ],
            "type": "surface"
           }
          ],
          "table": [
           {
            "cells": {
             "fill": {
              "color": "#EBF0F8"
             },
             "line": {
              "color": "white"
             }
            },
            "header": {
             "fill": {
              "color": "#C8D4E3"
             },
             "line": {
              "color": "white"
             }
            },
            "type": "table"
           }
          ]
         },
         "layout": {
          "annotationdefaults": {
           "arrowcolor": "#2a3f5f",
           "arrowhead": 0,
           "arrowwidth": 1
          },
          "autotypenumbers": "strict",
          "coloraxis": {
           "colorbar": {
            "outlinewidth": 0,
            "ticks": ""
           }
          },
          "colorscale": {
           "diverging": [
            [
             0,
             "#8e0152"
            ],
            [
             0.1,
             "#c51b7d"
            ],
            [
             0.2,
             "#de77ae"
            ],
            [
             0.3,
             "#f1b6da"
            ],
            [
             0.4,
             "#fde0ef"
            ],
            [
             0.5,
             "#f7f7f7"
            ],
            [
             0.6,
             "#e6f5d0"
            ],
            [
             0.7,
             "#b8e186"
            ],
            [
             0.8,
             "#7fbc41"
            ],
            [
             0.9,
             "#4d9221"
            ],
            [
             1,
             "#276419"
            ]
           ],
           "sequential": [
            [
             0,
             "#0d0887"
            ],
            [
             0.1111111111111111,
             "#46039f"
            ],
            [
             0.2222222222222222,
             "#7201a8"
            ],
            [
             0.3333333333333333,
             "#9c179e"
            ],
            [
             0.4444444444444444,
             "#bd3786"
            ],
            [
             0.5555555555555556,
             "#d8576b"
            ],
            [
             0.6666666666666666,
             "#ed7953"
            ],
            [
             0.7777777777777778,
             "#fb9f3a"
            ],
            [
             0.8888888888888888,
             "#fdca26"
            ],
            [
             1,
             "#f0f921"
            ]
           ],
           "sequentialminus": [
            [
             0,
             "#0d0887"
            ],
            [
             0.1111111111111111,
             "#46039f"
            ],
            [
             0.2222222222222222,
             "#7201a8"
            ],
            [
             0.3333333333333333,
             "#9c179e"
            ],
            [
             0.4444444444444444,
             "#bd3786"
            ],
            [
             0.5555555555555556,
             "#d8576b"
            ],
            [
             0.6666666666666666,
             "#ed7953"
            ],
            [
             0.7777777777777778,
             "#fb9f3a"
            ],
            [
             0.8888888888888888,
             "#fdca26"
            ],
            [
             1,
             "#f0f921"
            ]
           ]
          },
          "colorway": [
           "#636efa",
           "#EF553B",
           "#00cc96",
           "#ab63fa",
           "#FFA15A",
           "#19d3f3",
           "#FF6692",
           "#B6E880",
           "#FF97FF",
           "#FECB52"
          ],
          "font": {
           "color": "#2a3f5f"
          },
          "geo": {
           "bgcolor": "white",
           "lakecolor": "white",
           "landcolor": "#E5ECF6",
           "showlakes": true,
           "showland": true,
           "subunitcolor": "white"
          },
          "hoverlabel": {
           "align": "left"
          },
          "hovermode": "closest",
          "mapbox": {
           "style": "light"
          },
          "paper_bgcolor": "white",
          "plot_bgcolor": "#E5ECF6",
          "polar": {
           "angularaxis": {
            "gridcolor": "white",
            "linecolor": "white",
            "ticks": ""
           },
           "bgcolor": "#E5ECF6",
           "radialaxis": {
            "gridcolor": "white",
            "linecolor": "white",
            "ticks": ""
           }
          },
          "scene": {
           "xaxis": {
            "backgroundcolor": "#E5ECF6",
            "gridcolor": "white",
            "gridwidth": 2,
            "linecolor": "white",
            "showbackground": true,
            "ticks": "",
            "zerolinecolor": "white"
           },
           "yaxis": {
            "backgroundcolor": "#E5ECF6",
            "gridcolor": "white",
            "gridwidth": 2,
            "linecolor": "white",
            "showbackground": true,
            "ticks": "",
            "zerolinecolor": "white"
           },
           "zaxis": {
            "backgroundcolor": "#E5ECF6",
            "gridcolor": "white",
            "gridwidth": 2,
            "linecolor": "white",
            "showbackground": true,
            "ticks": "",
            "zerolinecolor": "white"
           }
          },
          "shapedefaults": {
           "line": {
            "color": "#2a3f5f"
           }
          },
          "ternary": {
           "aaxis": {
            "gridcolor": "white",
            "linecolor": "white",
            "ticks": ""
           },
           "baxis": {
            "gridcolor": "white",
            "linecolor": "white",
            "ticks": ""
           },
           "bgcolor": "#E5ECF6",
           "caxis": {
            "gridcolor": "white",
            "linecolor": "white",
            "ticks": ""
           }
          },
          "title": {
           "x": 0.05
          },
          "xaxis": {
           "automargin": true,
           "gridcolor": "white",
           "linecolor": "white",
           "ticks": "",
           "title": {
            "standoff": 15
           },
           "zerolinecolor": "white",
           "zerolinewidth": 2
          },
          "yaxis": {
           "automargin": true,
           "gridcolor": "white",
           "linecolor": "white",
           "ticks": "",
           "title": {
            "standoff": 15
           },
           "zerolinecolor": "white",
           "zerolinewidth": 2
          }
         }
        },
        "updatemenus": [
         {
          "buttons": [
           {
            "args": [
             null,
             {
              "frame": {
               "duration": 500,
               "redraw": false
              },
              "fromcurrent": true,
              "mode": "immediate",
              "transition": {
               "duration": 500,
               "easing": "linear"
              }
             }
            ],
            "label": "&#9654;",
            "method": "animate"
           },
           {
            "args": [
             [
              null
             ],
             {
              "frame": {
               "duration": 0,
               "redraw": false
              },
              "fromcurrent": true,
              "mode": "immediate",
              "transition": {
               "duration": 0,
               "easing": "linear"
              }
             }
            ],
            "label": "&#9724;",
            "method": "animate"
           }
          ],
          "direction": "left",
          "pad": {
           "r": 10,
           "t": 70
          },
          "showactive": false,
          "type": "buttons",
          "x": 0.1,
          "xanchor": "right",
          "y": 0,
          "yanchor": "top"
         }
        ],
        "xaxis": {
         "anchor": "y",
         "domain": [
          0,
          1
         ],
         "title": {
          "text": "x"
         }
        },
        "yaxis": {
         "anchor": "x",
         "domain": [
          0,
          1
         ],
         "title": {
          "text": "value"
         }
        }
       }
      }
     },
     "metadata": {},
     "output_type": "display_data"
    }
   ],
   "source": [
    "px.line(\n",
    "    df,\n",
    "    x='x',\n",
    "    y=['target', 'pred_init', 'pred'],\n",
    "    animation_frame='object'\n",
    ")"
   ]
  },
  {
   "cell_type": "code",
   "execution_count": null,
   "id": "842f1f7f",
   "metadata": {},
   "outputs": [],
   "source": []
  }
 ],
 "metadata": {
  "kernelspec": {
   "display_name": "movable_graph",
   "language": "python",
   "name": "python3"
  },
  "language_info": {
   "codemirror_mode": {
    "name": "ipython",
    "version": 3
   },
   "file_extension": ".py",
   "mimetype": "text/x-python",
   "name": "python",
   "nbconvert_exporter": "python",
   "pygments_lexer": "ipython3",
   "version": "3.11.13"
  }
 },
 "nbformat": 4,
 "nbformat_minor": 5
}
