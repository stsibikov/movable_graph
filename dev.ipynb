{
 "cells": [
  {
   "cell_type": "code",
   "execution_count": 1,
   "id": "79b75404",
   "metadata": {},
   "outputs": [],
   "source": [
    "import pandas as pd\n",
    "import plotly.express as px"
   ]
  },
  {
   "cell_type": "code",
   "execution_count": 2,
   "id": "79dc4fa9",
   "metadata": {},
   "outputs": [],
   "source": [
    "df = pd.read_csv('exported_data.csv')"
   ]
  },
  {
   "cell_type": "code",
   "execution_count": 5,
   "id": "400f66c7",
   "metadata": {},
   "outputs": [
    {
     "ename": "ValueError",
     "evalue": "Mime type rendering requires nbformat>=4.2.0 but it is not installed",
     "output_type": "error",
     "traceback": [
      "\u001b[31m---------------------------------------------------------------------------\u001b[39m",
      "\u001b[31mValueError\u001b[39m                                Traceback (most recent call last)",
      "\u001b[36mFile \u001b[39m\u001b[32me:\\anaconda\\envs\\movable_graph\\Lib\\site-packages\\IPython\\core\\formatters.py:984\u001b[39m, in \u001b[36mIPythonDisplayFormatter.__call__\u001b[39m\u001b[34m(self, obj)\u001b[39m\n\u001b[32m    982\u001b[39m method = get_real_method(obj, \u001b[38;5;28mself\u001b[39m.print_method)\n\u001b[32m    983\u001b[39m \u001b[38;5;28;01mif\u001b[39;00m method \u001b[38;5;129;01mis\u001b[39;00m \u001b[38;5;129;01mnot\u001b[39;00m \u001b[38;5;28;01mNone\u001b[39;00m:\n\u001b[32m--> \u001b[39m\u001b[32m984\u001b[39m     \u001b[43mmethod\u001b[49m\u001b[43m(\u001b[49m\u001b[43m)\u001b[49m\n\u001b[32m    985\u001b[39m     \u001b[38;5;28;01mreturn\u001b[39;00m \u001b[38;5;28;01mTrue\u001b[39;00m\n",
      "\u001b[36mFile \u001b[39m\u001b[32me:\\anaconda\\envs\\movable_graph\\Lib\\site-packages\\plotly\\basedatatypes.py:846\u001b[39m, in \u001b[36mBaseFigure._ipython_display_\u001b[39m\u001b[34m(self)\u001b[39m\n\u001b[32m    843\u001b[39m \u001b[38;5;28;01mimport\u001b[39;00m\u001b[38;5;250m \u001b[39m\u001b[34;01mplotly\u001b[39;00m\u001b[34;01m.\u001b[39;00m\u001b[34;01mio\u001b[39;00m\u001b[38;5;250m \u001b[39m\u001b[38;5;28;01mas\u001b[39;00m\u001b[38;5;250m \u001b[39m\u001b[34;01mpio\u001b[39;00m\n\u001b[32m    845\u001b[39m \u001b[38;5;28;01mif\u001b[39;00m pio.renderers.render_on_display \u001b[38;5;129;01mand\u001b[39;00m pio.renderers.default:\n\u001b[32m--> \u001b[39m\u001b[32m846\u001b[39m     \u001b[43mpio\u001b[49m\u001b[43m.\u001b[49m\u001b[43mshow\u001b[49m\u001b[43m(\u001b[49m\u001b[38;5;28;43mself\u001b[39;49m\u001b[43m)\u001b[49m\n\u001b[32m    847\u001b[39m \u001b[38;5;28;01melse\u001b[39;00m:\n\u001b[32m    848\u001b[39m     \u001b[38;5;28mprint\u001b[39m(\u001b[38;5;28mrepr\u001b[39m(\u001b[38;5;28mself\u001b[39m))\n",
      "\u001b[36mFile \u001b[39m\u001b[32me:\\anaconda\\envs\\movable_graph\\Lib\\site-packages\\plotly\\io\\_renderers.py:425\u001b[39m, in \u001b[36mshow\u001b[39m\u001b[34m(fig, renderer, validate, **kwargs)\u001b[39m\n\u001b[32m    420\u001b[39m     \u001b[38;5;28;01mraise\u001b[39;00m \u001b[38;5;167;01mValueError\u001b[39;00m(\n\u001b[32m    421\u001b[39m         \u001b[33m\"\u001b[39m\u001b[33mMime type rendering requires ipython but it is not installed\u001b[39m\u001b[33m\"\u001b[39m\n\u001b[32m    422\u001b[39m     )\n\u001b[32m    424\u001b[39m \u001b[38;5;28;01mif\u001b[39;00m \u001b[38;5;129;01mnot\u001b[39;00m nbformat \u001b[38;5;129;01mor\u001b[39;00m Version(nbformat.__version__) < Version(\u001b[33m\"\u001b[39m\u001b[33m4.2.0\u001b[39m\u001b[33m\"\u001b[39m):\n\u001b[32m--> \u001b[39m\u001b[32m425\u001b[39m     \u001b[38;5;28;01mraise\u001b[39;00m \u001b[38;5;167;01mValueError\u001b[39;00m(\n\u001b[32m    426\u001b[39m         \u001b[33m\"\u001b[39m\u001b[33mMime type rendering requires nbformat>=4.2.0 but it is not installed\u001b[39m\u001b[33m\"\u001b[39m\n\u001b[32m    427\u001b[39m     )\n\u001b[32m    429\u001b[39m display_jupyter_version_warnings()\n\u001b[32m    431\u001b[39m ipython_display.display(bundle, raw=\u001b[38;5;28;01mTrue\u001b[39;00m)\n",
      "\u001b[31mValueError\u001b[39m: Mime type rendering requires nbformat>=4.2.0 but it is not installed"
     ]
    },
    {
     "data": {
      "application/vnd.plotly.v1+json": {
       "config": {
        "plotlyServerURL": "https://plot.ly"
       },
       "data": [
        {
         "hovertemplate": "variable=target<br>object=Object A<br>x=%{x}<br>value=%{y}<extra></extra>",
         "legendgroup": "target",
         "line": {
          "color": "#636efa",
          "dash": "solid"
         },
         "marker": {
          "symbol": "circle"
         },
         "mode": "lines",
         "name": "target",
         "orientation": "v",
         "showlegend": true,
         "type": "scatter",
         "x": {
          "bdata": "AAECAwQFBgcICQoLDA0ODxAREhMUFRYXGBkaGxwdHh8gISIjJCUmJygpKissLS4vMDE=",
          "dtype": "i1"
         },
         "xaxis": "x",
         "y": {
          "bdata": "Z6C5XHKUxj/dQVVVO43OP43g+V/LL98/7j4xdUo96T+2cuEOfO7sP5scXIi+zOc/UFbOzslu8D8oqwv3zwzvP96N/Dfzp+8/0aR8oA898D99byML947tP6GPDhyLhu4/JjSKI9YM6D/TllnVqeLgP5ksDN+rR9g//DzmvZpVxj/bQ8ge/U23P0/7063qqtG/dHtoJ1NR2r817snbA1DmvwFNeFGRMfC/y4qvHoHM6b+lNjnIYK/rv6QmQi4mFvG/rDyHjjKd6L8f1zxGdqvxv6d7CnHGH+y/BCil49NT6b+X4TL8XZfevw1a9gqlVNS/L2iC4RPk0L8INwHdCi6nv/h2RnDnb5w/jROTutMLvT/xs1OsiGXdPxQJxoMdhuU/SlTbzZRV7T/r5s9nmk3wPyGh5lrmu+0/ikonsWv87j8BpHwh2U3sP4O0bp8vj+k/TW3UAxnj5T/OBUOYQb7tP2kTn3MiFuE/aTkaiGiS1z/Uj7Bl/vy4P4/3CAcLP7o/2oHsVWF81b81jWGe8tDYvw==",
          "dtype": "f8"
         },
         "yaxis": "y"
        },
        {
         "hovertemplate": "variable=pred_init<br>object=Object A<br>x=%{x}<br>value=%{y}<extra></extra>",
         "legendgroup": "pred_init",
         "line": {
          "color": "#EF553B",
          "dash": "solid"
         },
         "marker": {
          "symbol": "circle"
         },
         "mode": "lines",
         "name": "pred_init",
         "orientation": "v",
         "showlegend": true,
         "type": "scatter",
         "x": {
          "bdata": "AAECAwQFBgcICQoLDA0ODxAREhMUFRYXGBkaGxwdHh8gISIjJCUmJygpKissLS4vMDE=",
          "dtype": "i1"
         },
         "xaxis": "x",
         "y": {
          "bdata": "9A0yrE4FZr8q9XIBazrUP8Ft9/f8pdg/qGG4bfGu4T9qIyOTT8DsPxYowPCFiuo/4Cn/ekel8D8Vi97vMH7wP0HZwz+tmOs/egnalM4n7j/+SmSwNEHpP0C9T5VzOew/fahW3pPY4j97vUK5SVnHPwyvBbUPjdo/21S+X/wYuD+Qoz5rrBTOv+HlZpLxfMe/Ev3IFy734r8QJV1h6Prlv0cV8+OXuOu/29ESxC356L8Sn0x/lWTkv1lArOy3CfW/nsnHPQAK5r82QAxcddzzv9W8eZ4+2fC/unQaCTcI7b9hHI2YIUrhv0AAnCOanNO/KXOcaArO37/zNNpWJUTBP7Jfy7mB874/NeLuWQPOyL9KAbOMHjnoP9nZ+4gr1PA/JMdJZXJw8j+gHHfdanTvP3lbnSeU4eY/ODWcZgTe8j+LsnB2SLnpPxUirR8FsfA/XJJO31U45z9XKCfZMP/xP7wSMFoBXuM/EWBFiNpO4D+c456enoa5P8f+FoKza90/EpB6wYPc07+DBud/tavTvw==",
          "dtype": "f8"
         },
         "yaxis": "y"
        },
        {
         "hovertemplate": "variable=pred<br>object=Object A<br>x=%{x}<br>value=%{y}<extra></extra>",
         "legendgroup": "pred",
         "line": {
          "color": "#00cc96",
          "dash": "solid"
         },
         "marker": {
          "symbol": "circle"
         },
         "mode": "lines",
         "name": "pred",
         "orientation": "v",
         "showlegend": true,
         "type": "scatter",
         "x": {
          "bdata": "AAECAwQFBgcICQoLDA0ODxAREhMUFRYXGBkaGxwdHh8gISIjJCUmJygpKissLS4vMDE=",
          "dtype": "i1"
         },
         "xaxis": "x",
         "y": {
          "bdata": "9A0yrE4Fdr8q9XIBazr0P8Jt9/f8peg/qGG4bfGuAUBqIyOTT8D8PxYowPCFigpA4Cn/ekelAEAVi97vMH4QQEHZwz+tmPs/egnalM4nDkD+SmSwNEH5P0C9T5VzOQxAfKhW3pPY8j97vUK5SVnnPwyvBbUPjeo/21S+X/wY2D+Qoz5rrBTev+LlZpLxfOe/Ev3IFy738r8QJV1h6PoFwEgV8+OXuPu/2tESxC35CMASn0x/lWT0v1lArOy3CRXAnsnHPQAK9r82QAxcddwTwNW8eZ4+2QDAunQaCTcIDcBhHI2YIUrxv0AAnCOanPO/KXOcaArO77/zNNpWJUThP7Jfy7mB884/NeLuWQPO6L9KAbOMHjn4P9nZ+4gr1BBAJMdJZXJwAkCgHHfdanQPQHlbnSeU4fY/ODWcZgTeEkCLsnB2SLn5PxUirR8FsRBAXJJO31U49z9XKCfZMP8RQLsSMFoBXvM/EWBFiNpOAECc456enobJP8f+FoKza/0/E5B6wYPc47+DBud/tavzvw==",
          "dtype": "f8"
         },
         "yaxis": "y"
        }
       ],
       "frames": [
        {
         "data": [
          {
           "hovertemplate": "variable=target<br>object=Object A<br>x=%{x}<br>value=%{y}<extra></extra>",
           "legendgroup": "target",
           "line": {
            "color": "#636efa",
            "dash": "solid"
           },
           "marker": {
            "symbol": "circle"
           },
           "mode": "lines",
           "name": "target",
           "orientation": "v",
           "showlegend": true,
           "type": "scatter",
           "x": {
            "bdata": "AAECAwQFBgcICQoLDA0ODxAREhMUFRYXGBkaGxwdHh8gISIjJCUmJygpKissLS4vMDE=",
            "dtype": "i1"
           },
           "xaxis": "x",
           "y": {
            "bdata": "Z6C5XHKUxj/dQVVVO43OP43g+V/LL98/7j4xdUo96T+2cuEOfO7sP5scXIi+zOc/UFbOzslu8D8oqwv3zwzvP96N/Dfzp+8/0aR8oA898D99byML947tP6GPDhyLhu4/JjSKI9YM6D/TllnVqeLgP5ksDN+rR9g//DzmvZpVxj/bQ8ge/U23P0/7063qqtG/dHtoJ1NR2r817snbA1DmvwFNeFGRMfC/y4qvHoHM6b+lNjnIYK/rv6QmQi4mFvG/rDyHjjKd6L8f1zxGdqvxv6d7CnHGH+y/BCil49NT6b+X4TL8XZfevw1a9gqlVNS/L2iC4RPk0L8INwHdCi6nv/h2RnDnb5w/jROTutMLvT/xs1OsiGXdPxQJxoMdhuU/SlTbzZRV7T/r5s9nmk3wPyGh5lrmu+0/ikonsWv87j8BpHwh2U3sP4O0bp8vj+k/TW3UAxnj5T/OBUOYQb7tP2kTn3MiFuE/aTkaiGiS1z/Uj7Bl/vy4P4/3CAcLP7o/2oHsVWF81b81jWGe8tDYvw==",
            "dtype": "f8"
           },
           "yaxis": "y"
          },
          {
           "hovertemplate": "variable=pred_init<br>object=Object A<br>x=%{x}<br>value=%{y}<extra></extra>",
           "legendgroup": "pred_init",
           "line": {
            "color": "#EF553B",
            "dash": "solid"
           },
           "marker": {
            "symbol": "circle"
           },
           "mode": "lines",
           "name": "pred_init",
           "orientation": "v",
           "showlegend": true,
           "type": "scatter",
           "x": {
            "bdata": "AAECAwQFBgcICQoLDA0ODxAREhMUFRYXGBkaGxwdHh8gISIjJCUmJygpKissLS4vMDE=",
            "dtype": "i1"
           },
           "xaxis": "x",
           "y": {
            "bdata": "9A0yrE4FZr8q9XIBazrUP8Ft9/f8pdg/qGG4bfGu4T9qIyOTT8DsPxYowPCFiuo/4Cn/ekel8D8Vi97vMH7wP0HZwz+tmOs/egnalM4n7j/+SmSwNEHpP0C9T5VzOew/fahW3pPY4j97vUK5SVnHPwyvBbUPjdo/21S+X/wYuD+Qoz5rrBTOv+HlZpLxfMe/Ev3IFy734r8QJV1h6Prlv0cV8+OXuOu/29ESxC356L8Sn0x/lWTkv1lArOy3CfW/nsnHPQAK5r82QAxcddzzv9W8eZ4+2fC/unQaCTcI7b9hHI2YIUrhv0AAnCOanNO/KXOcaArO37/zNNpWJUTBP7Jfy7mB874/NeLuWQPOyL9KAbOMHjnoP9nZ+4gr1PA/JMdJZXJw8j+gHHfdanTvP3lbnSeU4eY/ODWcZgTe8j+LsnB2SLnpPxUirR8FsfA/XJJO31U45z9XKCfZMP/xP7wSMFoBXuM/EWBFiNpO4D+c456enoa5P8f+FoKza90/EpB6wYPc07+DBud/tavTvw==",
            "dtype": "f8"
           },
           "yaxis": "y"
          },
          {
           "hovertemplate": "variable=pred<br>object=Object A<br>x=%{x}<br>value=%{y}<extra></extra>",
           "legendgroup": "pred",
           "line": {
            "color": "#00cc96",
            "dash": "solid"
           },
           "marker": {
            "symbol": "circle"
           },
           "mode": "lines",
           "name": "pred",
           "orientation": "v",
           "showlegend": true,
           "type": "scatter",
           "x": {
            "bdata": "AAECAwQFBgcICQoLDA0ODxAREhMUFRYXGBkaGxwdHh8gISIjJCUmJygpKissLS4vMDE=",
            "dtype": "i1"
           },
           "xaxis": "x",
           "y": {
            "bdata": "9A0yrE4Fdr8q9XIBazr0P8Jt9/f8peg/qGG4bfGuAUBqIyOTT8D8PxYowPCFigpA4Cn/ekelAEAVi97vMH4QQEHZwz+tmPs/egnalM4nDkD+SmSwNEH5P0C9T5VzOQxAfKhW3pPY8j97vUK5SVnnPwyvBbUPjeo/21S+X/wY2D+Qoz5rrBTev+LlZpLxfOe/Ev3IFy738r8QJV1h6PoFwEgV8+OXuPu/2tESxC35CMASn0x/lWT0v1lArOy3CRXAnsnHPQAK9r82QAxcddwTwNW8eZ4+2QDAunQaCTcIDcBhHI2YIUrxv0AAnCOanPO/KXOcaArO77/zNNpWJUThP7Jfy7mB884/NeLuWQPO6L9KAbOMHjn4P9nZ+4gr1BBAJMdJZXJwAkCgHHfdanQPQHlbnSeU4fY/ODWcZgTeEkCLsnB2SLn5PxUirR8FsRBAXJJO31U49z9XKCfZMP8RQLsSMFoBXvM/EWBFiNpOAECc456enobJP8f+FoKza/0/E5B6wYPc47+DBud/tavzvw==",
            "dtype": "f8"
           },
           "yaxis": "y"
          }
         ],
         "name": "Object A"
        },
        {
         "data": [
          {
           "hovertemplate": "variable=target<br>object=Object B<br>x=%{x}<br>value=%{y}<extra></extra>",
           "legendgroup": "target",
           "line": {
            "color": "#636efa",
            "dash": "solid"
           },
           "marker": {
            "symbol": "circle"
           },
           "mode": "lines",
           "name": "target",
           "orientation": "v",
           "showlegend": true,
           "type": "scatter",
           "x": {
            "bdata": "AAECAwQFBgcICQoLDA0ODxAREhMUFRYXGBkaGxwdHh8gISIjJCUmJygpKissLS4vMDE=",
            "dtype": "i1"
           },
           "xaxis": "x",
           "y": {
            "bdata": "iEzaTLUayD+OFITJUVuwP3+gP+GqytA/HJweUa4r5T/WY4TzjjPjP5h5c7vFkvA/I1wqcm2A7D9vk508fSTtP0Mw6vnjEfM/u8gte0zz8T8qcYg1b4nxP9KW1y9vxew/+NPX1+Db4j949fFitpvmP6CTkmBZudM/pC5zpLVVzD+hgjLympyiP6LT9wLBWNG/D+2ptSVk2L/eKkA+3qDgv7fzCrZbA+e/xlZW7pNo77/TmjodNX/tvwWzyMq9jeu/rFcJBckM8b9FwBeZFirvv0EGJgO9qe2/TlK/4JHP4r+wFayplwzivzorC+Z0INu/FEynv1/P1r8678heS92dvwN4t225Jak/j1kJ5HEk1D/giB1uyI3bP2tMahorMOc/zQikARI+6z/V5MEQlBfsP3pzyKbNHvA/E3WYj6F07D9ybs09L+PqP8DzPhZqgu8/jQJQxmnh6z9aj2QWZojpP07IrPHpV+o/UkJbz8o14D+ZeqlVhdjAP7i7b4IUeME/hlFjFieU078uJzd+p2javw==",
            "dtype": "f8"
           },
           "yaxis": "y"
          },
          {
           "hovertemplate": "variable=pred_init<br>object=Object B<br>x=%{x}<br>value=%{y}<extra></extra>",
           "legendgroup": "pred_init",
           "line": {
            "color": "#EF553B",
            "dash": "solid"
           },
           "marker": {
            "symbol": "circle"
           },
           "mode": "lines",
           "name": "pred_init",
           "orientation": "v",
           "showlegend": true,
           "type": "scatter",
           "x": {
            "bdata": "AAECAwQFBgcICQoLDA0ODxAREhMUFRYXGBkaGxwdHh8gISIjJCUmJygpKissLS4vMDE=",
            "dtype": "i1"
           },
           "xaxis": "x",
           "y": {
            "bdata": "gcN34npbxj9dwCl+HAXaPztCMAQFCb0/aRJ9vUnD3z9EmTH4QJLiP9tbWYCA5uw/TIuTZifb8T9YYuUhITvmP2MScLfEy+4/CEWF9qKM8D/uxtR35OLvP9YJR8tjj/Q/Z42/ymjv6D+CWOsJKCvnP2BDzDpeJ7A/NNu50qn52D/qBeIn3PPEvw4CBXdUj+K/0gvILGxewr8DwNbALTPdv6q/tYafHuG/WSgw3V9e7b/mZM9OYAPov+vHjbdhuO+/lWHRdglc9L/RxfAiXc3qvxT1ebkFZ/G/AVtiBFQ557/sycrX7/bkv+L0OlEu59q/6BpMXVdX27/lAOJzRXfTv+sWikcsYbS/zBRLtmeiwL9OaetKRcfhP00b/9a23tk/1HmBD6Ys5D+yAHevC23sP3LJexnoges/mfsbZVoq8z/uiiHA95ziP0lDgqv5m/A/lPDYXQ2h6z/iCxQqmA7iP/3eQxVAse0/d62kIHY53j/EWKCBQ03SP8gbspt/RtM/lzHjgK04wD8IBRotPZrCvw==",
            "dtype": "f8"
           },
           "yaxis": "y"
          },
          {
           "hovertemplate": "variable=pred<br>object=Object B<br>x=%{x}<br>value=%{y}<extra></extra>",
           "legendgroup": "pred",
           "line": {
            "color": "#00cc96",
            "dash": "solid"
           },
           "marker": {
            "symbol": "circle"
           },
           "mode": "lines",
           "name": "pred",
           "orientation": "v",
           "showlegend": true,
           "type": "scatter",
           "x": {
            "bdata": "AAECAwQFBgcICQoLDA0ODxAREhMUFRYXGBkaGxwdHh8gISIjJCUmJygpKissLS4vMDE=",
            "dtype": "i1"
           },
           "xaxis": "x",
           "y": {
            "bdata": "YrQVm1ny6z9dwCl+HAXqP2UpniKjJeI/aRJ9vUnD7z+V/z020TYHQNtbWYCA5vw/H244QPFRFkBYYuUhITv2P34LpvJaPxNACEWF9qKMAEBV/OTKzu0TQNYJR8tjjwRAwHBv/UIrD0CCWOsJKCv3PzhUf8k1MdQ/Ndu50qn56D9lh9ox0zDqvw4CBXdUj/K/xw76Nwf25r8DwNbALTPtv5QvY2hHZgXAWSgw3V9e/b8fPoNiOAQOwOvHjbdhuP+/+rmF1AtzGcDQxfAiXc36v1ly2CfHwBXAAVtiBFQ5979nfL3NqzQKwOP0OlEu5+q/0ZBPmpYWAcDlAOJzRXfjv6WcbFl3edm/zBRLtmei0L+hQ6adFjkGQE0b/9a23uk/SNhhk883CUCxAHevC238P+dd7Q8xMRFAmfsbZVoqA0Cp7SmwNUQHQElDgqv5mwBAXJanWqhEEUDiCxQqmA7yP15rSg3IjhJAd62kIHY57j/2bghilOD2P8gbspt/RuM//f0b4dhG5D8IBRotPZrSvw==",
            "dtype": "f8"
           },
           "yaxis": "y"
          }
         ],
         "name": "Object B"
        },
        {
         "data": [
          {
           "hovertemplate": "variable=target<br>object=Object C<br>x=%{x}<br>value=%{y}<extra></extra>",
           "legendgroup": "target",
           "line": {
            "color": "#636efa",
            "dash": "solid"
           },
           "marker": {
            "symbol": "circle"
           },
           "mode": "lines",
           "name": "target",
           "orientation": "v",
           "showlegend": true,
           "type": "scatter",
           "x": {
            "bdata": "AAECAwQFBgcICQoLDA0ODxAREhMUFRYXGBkaGxwdHh8gISIjJCUmJygpKissLS4vMDE=",
            "dtype": "i1"
           },
           "xaxis": "x",
           "y": {
            "bdata": "b/EYsPDmor+CnTVUmV3GP232MpPp9d8/D55V21cq5D8t2V0S+gDpP+s0bky4wOU/8qI6E1a/7T+KK46SNSztP+AoqhzpcPA/u6LP4FrZ7j9HemyiSgHwP0dV5VQR4+o/bdbM4o0h6D8N8AgeywHePw72tVUhys4/7eQNoSOhuT8iCvhBTsKuvzKm1Zoq28u/QVMW0TS5y7/Po3n39LbjvwV0ThDWRuu/pZb3gmD/7L9LYqpQTe/vvzXMmBfjQe6/kWDyk2Zn8r/37Wb1rnvuvxPz7+UMxeu/HvC1skj8578GTeBZqBzmv3v7xmLaQd+/mpl7+h//2r9VVj8kL/PAv3yQ2ITx4K8/EDRsOfOZ1j9PlaOLQznYP6/GKeD9hec/hITtRQIu7j/bsTEofCLmP/sqNc4xK/A/Wnb2iUsP8T//kHNkop7tP046wgcF1ew/1955uwTs6j/pLZYRO4zmP6cXWYt/uuE/YLlEh15Mzz+gAZDyzqPVPxyIXwyJ/cA/CD1SNslc0L+uMvXofWvgvw==",
            "dtype": "f8"
           },
           "yaxis": "y"
          },
          {
           "hovertemplate": "variable=pred_init<br>object=Object C<br>x=%{x}<br>value=%{y}<extra></extra>",
           "legendgroup": "pred_init",
           "line": {
            "color": "#EF553B",
            "dash": "solid"
           },
           "marker": {
            "symbol": "circle"
           },
           "mode": "lines",
           "name": "pred_init",
           "orientation": "v",
           "showlegend": true,
           "type": "scatter",
           "x": {
            "bdata": "AAECAwQFBgcICQoLDA0ODxAREhMUFRYXGBkaGxwdHh8gISIjJCUmJygpKissLS4vMDE=",
            "dtype": "i1"
           },
           "xaxis": "x",
           "y": {
            "bdata": "9AKvQDs6sT+r8napdYCuP2AteEKI4+A/e5qWzycf4j80Z1py/m3tPy/ZrzX/Muo/7gX2eYQa6T90Nd+stFHkP0t0Kb1VwOY//OHKRbNg8T8NshWOwWboPwoVQiWzpOc/zmp2po1Q5D/xTC15ilXdP0yGjh55x8K//p6Ovr+lwT+PJu7jLuOmP+/GpPWul8m/4JmeoVDX0b81CElgYBfjv3Y9KuUJuei/9oipGf9e9784vLE7vGrjvwbk+hfCwuu/UN8Dk9p99L+r+DlYHH7wv0CxUJYanOi/IPc7OIK66L+upyST3Y3xv0/4gwKxU7O/YkbRM1hp3L+wFF5OPVWyP90WBTJdfrO/YODL2iwi5T9Z4oMKjuPbP4kWGn2Fa+s/5kpaPHd95z+v+mtP0+LtP0un6ihLYPI/c9s2e8Q59T+uhzhgk5npPzVQQKLnwOk/8Omet2DV9D8aGKFqAIffPzPIaBvC2+A/XLSv3Iwz3j87hYiXCOTWP3sJOgf76c8/XTE6WLN51b8tvDBxYhrcvw==",
            "dtype": "f8"
           },
           "yaxis": "y"
          },
          {
           "hovertemplate": "variable=pred<br>object=Object C<br>x=%{x}<br>value=%{y}<extra></extra>",
           "legendgroup": "pred",
           "line": {
            "color": "#00cc96",
            "dash": "solid"
           },
           "marker": {
            "symbol": "circle"
           },
           "mode": "lines",
           "name": "pred",
           "orientation": "v",
           "showlegend": true,
           "type": "scatter",
           "x": {
            "bdata": "AAECAwQFBgcICQoLDA0ODxAREhMUFRYXGBkaGxwdHh8gISIjJCUmJygpKissLS4vMDE=",
            "dtype": "i1"
           },
           "xaxis": "x",
           "y": {
            "bdata": "LX494VjXuT9APOI+WOCmPxBEtGNMVek/SClUt7su2z8DPcfVfhL2P0dzQGg/puM/c4R4W+PT8j8u0E4Dj3reP5yn201AEPE/l8Kz6AwR6j8mtZMqEU3yP2P/9FuGu+E//cCqedR47j/t2OjaJwDWP3LJ1a01K8y/XWvxnZ94uj/rnPIqYyqxP8PWLTjDMcO/0OZt8vjC2r+Ia3SQEKPcvxiu32vHivK/ht5AUz+H8b+MeZFZGiDtv6Ca/5ER0uS/+M6F3Me8/r9lhVOEKr3ov4z0v/ATdfK/9GgwquGL4r8ga7pczFT6vzXu/IOJ/ay/AdTjJgJP5b8IH43123+rPwycPsuLPb2/IBIkSEOz3z/7yOmHqurkPx9w2h2kkOQ/kEhAbRme8T8E/JB7HmrmP/D6X71wkPs/LEnSuKbW7z8m9iaILjPzPyg8sLmtUOM/TO9qExFA/z+DkAZQQKXXPxRNFimjSek/Deh8pamm1j8kQ61xBivhPzwKUEV878c/BqUrgkYb4L9abOvUyRPVvw==",
            "dtype": "f8"
           },
           "yaxis": "y"
          }
         ],
         "name": "Object C"
        }
       ],
       "layout": {
        "legend": {
         "title": {
          "text": "variable"
         },
         "tracegroupgap": 0
        },
        "margin": {
         "t": 60
        },
        "sliders": [
         {
          "active": 0,
          "currentvalue": {
           "prefix": "object="
          },
          "len": 0.9,
          "pad": {
           "b": 10,
           "t": 60
          },
          "steps": [
           {
            "args": [
             [
              "Object A"
             ],
             {
              "frame": {
               "duration": 0,
               "redraw": false
              },
              "fromcurrent": true,
              "mode": "immediate",
              "transition": {
               "duration": 0,
               "easing": "linear"
              }
             }
            ],
            "label": "Object A",
            "method": "animate"
           },
           {
            "args": [
             [
              "Object B"
             ],
             {
              "frame": {
               "duration": 0,
               "redraw": false
              },
              "fromcurrent": true,
              "mode": "immediate",
              "transition": {
               "duration": 0,
               "easing": "linear"
              }
             }
            ],
            "label": "Object B",
            "method": "animate"
           },
           {
            "args": [
             [
              "Object C"
             ],
             {
              "frame": {
               "duration": 0,
               "redraw": false
              },
              "fromcurrent": true,
              "mode": "immediate",
              "transition": {
               "duration": 0,
               "easing": "linear"
              }
             }
            ],
            "label": "Object C",
            "method": "animate"
           }
          ],
          "x": 0.1,
          "xanchor": "left",
          "y": 0,
          "yanchor": "top"
         }
        ],
        "template": {
         "data": {
          "bar": [
           {
            "error_x": {
             "color": "#2a3f5f"
            },
            "error_y": {
             "color": "#2a3f5f"
            },
            "marker": {
             "line": {
              "color": "#E5ECF6",
              "width": 0.5
             },
             "pattern": {
              "fillmode": "overlay",
              "size": 10,
              "solidity": 0.2
             }
            },
            "type": "bar"
           }
          ],
          "barpolar": [
           {
            "marker": {
             "line": {
              "color": "#E5ECF6",
              "width": 0.5
             },
             "pattern": {
              "fillmode": "overlay",
              "size": 10,
              "solidity": 0.2
             }
            },
            "type": "barpolar"
           }
          ],
          "carpet": [
           {
            "aaxis": {
             "endlinecolor": "#2a3f5f",
             "gridcolor": "white",
             "linecolor": "white",
             "minorgridcolor": "white",
             "startlinecolor": "#2a3f5f"
            },
            "baxis": {
             "endlinecolor": "#2a3f5f",
             "gridcolor": "white",
             "linecolor": "white",
             "minorgridcolor": "white",
             "startlinecolor": "#2a3f5f"
            },
            "type": "carpet"
           }
          ],
          "choropleth": [
           {
            "colorbar": {
             "outlinewidth": 0,
             "ticks": ""
            },
            "type": "choropleth"
           }
          ],
          "contour": [
           {
            "colorbar": {
             "outlinewidth": 0,
             "ticks": ""
            },
            "colorscale": [
             [
              0,
              "#0d0887"
             ],
             [
              0.1111111111111111,
              "#46039f"
             ],
             [
              0.2222222222222222,
              "#7201a8"
             ],
             [
              0.3333333333333333,
              "#9c179e"
             ],
             [
              0.4444444444444444,
              "#bd3786"
             ],
             [
              0.5555555555555556,
              "#d8576b"
             ],
             [
              0.6666666666666666,
              "#ed7953"
             ],
             [
              0.7777777777777778,
              "#fb9f3a"
             ],
             [
              0.8888888888888888,
              "#fdca26"
             ],
             [
              1,
              "#f0f921"
             ]
            ],
            "type": "contour"
           }
          ],
          "contourcarpet": [
           {
            "colorbar": {
             "outlinewidth": 0,
             "ticks": ""
            },
            "type": "contourcarpet"
           }
          ],
          "heatmap": [
           {
            "colorbar": {
             "outlinewidth": 0,
             "ticks": ""
            },
            "colorscale": [
             [
              0,
              "#0d0887"
             ],
             [
              0.1111111111111111,
              "#46039f"
             ],
             [
              0.2222222222222222,
              "#7201a8"
             ],
             [
              0.3333333333333333,
              "#9c179e"
             ],
             [
              0.4444444444444444,
              "#bd3786"
             ],
             [
              0.5555555555555556,
              "#d8576b"
             ],
             [
              0.6666666666666666,
              "#ed7953"
             ],
             [
              0.7777777777777778,
              "#fb9f3a"
             ],
             [
              0.8888888888888888,
              "#fdca26"
             ],
             [
              1,
              "#f0f921"
             ]
            ],
            "type": "heatmap"
           }
          ],
          "histogram": [
           {
            "marker": {
             "pattern": {
              "fillmode": "overlay",
              "size": 10,
              "solidity": 0.2
             }
            },
            "type": "histogram"
           }
          ],
          "histogram2d": [
           {
            "colorbar": {
             "outlinewidth": 0,
             "ticks": ""
            },
            "colorscale": [
             [
              0,
              "#0d0887"
             ],
             [
              0.1111111111111111,
              "#46039f"
             ],
             [
              0.2222222222222222,
              "#7201a8"
             ],
             [
              0.3333333333333333,
              "#9c179e"
             ],
             [
              0.4444444444444444,
              "#bd3786"
             ],
             [
              0.5555555555555556,
              "#d8576b"
             ],
             [
              0.6666666666666666,
              "#ed7953"
             ],
             [
              0.7777777777777778,
              "#fb9f3a"
             ],
             [
              0.8888888888888888,
              "#fdca26"
             ],
             [
              1,
              "#f0f921"
             ]
            ],
            "type": "histogram2d"
           }
          ],
          "histogram2dcontour": [
           {
            "colorbar": {
             "outlinewidth": 0,
             "ticks": ""
            },
            "colorscale": [
             [
              0,
              "#0d0887"
             ],
             [
              0.1111111111111111,
              "#46039f"
             ],
             [
              0.2222222222222222,
              "#7201a8"
             ],
             [
              0.3333333333333333,
              "#9c179e"
             ],
             [
              0.4444444444444444,
              "#bd3786"
             ],
             [
              0.5555555555555556,
              "#d8576b"
             ],
             [
              0.6666666666666666,
              "#ed7953"
             ],
             [
              0.7777777777777778,
              "#fb9f3a"
             ],
             [
              0.8888888888888888,
              "#fdca26"
             ],
             [
              1,
              "#f0f921"
             ]
            ],
            "type": "histogram2dcontour"
           }
          ],
          "mesh3d": [
           {
            "colorbar": {
             "outlinewidth": 0,
             "ticks": ""
            },
            "type": "mesh3d"
           }
          ],
          "parcoords": [
           {
            "line": {
             "colorbar": {
              "outlinewidth": 0,
              "ticks": ""
             }
            },
            "type": "parcoords"
           }
          ],
          "pie": [
           {
            "automargin": true,
            "type": "pie"
           }
          ],
          "scatter": [
           {
            "fillpattern": {
             "fillmode": "overlay",
             "size": 10,
             "solidity": 0.2
            },
            "type": "scatter"
           }
          ],
          "scatter3d": [
           {
            "line": {
             "colorbar": {
              "outlinewidth": 0,
              "ticks": ""
             }
            },
            "marker": {
             "colorbar": {
              "outlinewidth": 0,
              "ticks": ""
             }
            },
            "type": "scatter3d"
           }
          ],
          "scattercarpet": [
           {
            "marker": {
             "colorbar": {
              "outlinewidth": 0,
              "ticks": ""
             }
            },
            "type": "scattercarpet"
           }
          ],
          "scattergeo": [
           {
            "marker": {
             "colorbar": {
              "outlinewidth": 0,
              "ticks": ""
             }
            },
            "type": "scattergeo"
           }
          ],
          "scattergl": [
           {
            "marker": {
             "colorbar": {
              "outlinewidth": 0,
              "ticks": ""
             }
            },
            "type": "scattergl"
           }
          ],
          "scattermap": [
           {
            "marker": {
             "colorbar": {
              "outlinewidth": 0,
              "ticks": ""
             }
            },
            "type": "scattermap"
           }
          ],
          "scattermapbox": [
           {
            "marker": {
             "colorbar": {
              "outlinewidth": 0,
              "ticks": ""
             }
            },
            "type": "scattermapbox"
           }
          ],
          "scatterpolar": [
           {
            "marker": {
             "colorbar": {
              "outlinewidth": 0,
              "ticks": ""
             }
            },
            "type": "scatterpolar"
           }
          ],
          "scatterpolargl": [
           {
            "marker": {
             "colorbar": {
              "outlinewidth": 0,
              "ticks": ""
             }
            },
            "type": "scatterpolargl"
           }
          ],
          "scatterternary": [
           {
            "marker": {
             "colorbar": {
              "outlinewidth": 0,
              "ticks": ""
             }
            },
            "type": "scatterternary"
           }
          ],
          "surface": [
           {
            "colorbar": {
             "outlinewidth": 0,
             "ticks": ""
            },
            "colorscale": [
             [
              0,
              "#0d0887"
             ],
             [
              0.1111111111111111,
              "#46039f"
             ],
             [
              0.2222222222222222,
              "#7201a8"
             ],
             [
              0.3333333333333333,
              "#9c179e"
             ],
             [
              0.4444444444444444,
              "#bd3786"
             ],
             [
              0.5555555555555556,
              "#d8576b"
             ],
             [
              0.6666666666666666,
              "#ed7953"
             ],
             [
              0.7777777777777778,
              "#fb9f3a"
             ],
             [
              0.8888888888888888,
              "#fdca26"
             ],
             [
              1,
              "#f0f921"
             ]
            ],
            "type": "surface"
           }
          ],
          "table": [
           {
            "cells": {
             "fill": {
              "color": "#EBF0F8"
             },
             "line": {
              "color": "white"
             }
            },
            "header": {
             "fill": {
              "color": "#C8D4E3"
             },
             "line": {
              "color": "white"
             }
            },
            "type": "table"
           }
          ]
         },
         "layout": {
          "annotationdefaults": {
           "arrowcolor": "#2a3f5f",
           "arrowhead": 0,
           "arrowwidth": 1
          },
          "autotypenumbers": "strict",
          "coloraxis": {
           "colorbar": {
            "outlinewidth": 0,
            "ticks": ""
           }
          },
          "colorscale": {
           "diverging": [
            [
             0,
             "#8e0152"
            ],
            [
             0.1,
             "#c51b7d"
            ],
            [
             0.2,
             "#de77ae"
            ],
            [
             0.3,
             "#f1b6da"
            ],
            [
             0.4,
             "#fde0ef"
            ],
            [
             0.5,
             "#f7f7f7"
            ],
            [
             0.6,
             "#e6f5d0"
            ],
            [
             0.7,
             "#b8e186"
            ],
            [
             0.8,
             "#7fbc41"
            ],
            [
             0.9,
             "#4d9221"
            ],
            [
             1,
             "#276419"
            ]
           ],
           "sequential": [
            [
             0,
             "#0d0887"
            ],
            [
             0.1111111111111111,
             "#46039f"
            ],
            [
             0.2222222222222222,
             "#7201a8"
            ],
            [
             0.3333333333333333,
             "#9c179e"
            ],
            [
             0.4444444444444444,
             "#bd3786"
            ],
            [
             0.5555555555555556,
             "#d8576b"
            ],
            [
             0.6666666666666666,
             "#ed7953"
            ],
            [
             0.7777777777777778,
             "#fb9f3a"
            ],
            [
             0.8888888888888888,
             "#fdca26"
            ],
            [
             1,
             "#f0f921"
            ]
           ],
           "sequentialminus": [
            [
             0,
             "#0d0887"
            ],
            [
             0.1111111111111111,
             "#46039f"
            ],
            [
             0.2222222222222222,
             "#7201a8"
            ],
            [
             0.3333333333333333,
             "#9c179e"
            ],
            [
             0.4444444444444444,
             "#bd3786"
            ],
            [
             0.5555555555555556,
             "#d8576b"
            ],
            [
             0.6666666666666666,
             "#ed7953"
            ],
            [
             0.7777777777777778,
             "#fb9f3a"
            ],
            [
             0.8888888888888888,
             "#fdca26"
            ],
            [
             1,
             "#f0f921"
            ]
           ]
          },
          "colorway": [
           "#636efa",
           "#EF553B",
           "#00cc96",
           "#ab63fa",
           "#FFA15A",
           "#19d3f3",
           "#FF6692",
           "#B6E880",
           "#FF97FF",
           "#FECB52"
          ],
          "font": {
           "color": "#2a3f5f"
          },
          "geo": {
           "bgcolor": "white",
           "lakecolor": "white",
           "landcolor": "#E5ECF6",
           "showlakes": true,
           "showland": true,
           "subunitcolor": "white"
          },
          "hoverlabel": {
           "align": "left"
          },
          "hovermode": "closest",
          "mapbox": {
           "style": "light"
          },
          "paper_bgcolor": "white",
          "plot_bgcolor": "#E5ECF6",
          "polar": {
           "angularaxis": {
            "gridcolor": "white",
            "linecolor": "white",
            "ticks": ""
           },
           "bgcolor": "#E5ECF6",
           "radialaxis": {
            "gridcolor": "white",
            "linecolor": "white",
            "ticks": ""
           }
          },
          "scene": {
           "xaxis": {
            "backgroundcolor": "#E5ECF6",
            "gridcolor": "white",
            "gridwidth": 2,
            "linecolor": "white",
            "showbackground": true,
            "ticks": "",
            "zerolinecolor": "white"
           },
           "yaxis": {
            "backgroundcolor": "#E5ECF6",
            "gridcolor": "white",
            "gridwidth": 2,
            "linecolor": "white",
            "showbackground": true,
            "ticks": "",
            "zerolinecolor": "white"
           },
           "zaxis": {
            "backgroundcolor": "#E5ECF6",
            "gridcolor": "white",
            "gridwidth": 2,
            "linecolor": "white",
            "showbackground": true,
            "ticks": "",
            "zerolinecolor": "white"
           }
          },
          "shapedefaults": {
           "line": {
            "color": "#2a3f5f"
           }
          },
          "ternary": {
           "aaxis": {
            "gridcolor": "white",
            "linecolor": "white",
            "ticks": ""
           },
           "baxis": {
            "gridcolor": "white",
            "linecolor": "white",
            "ticks": ""
           },
           "bgcolor": "#E5ECF6",
           "caxis": {
            "gridcolor": "white",
            "linecolor": "white",
            "ticks": ""
           }
          },
          "title": {
           "x": 0.05
          },
          "xaxis": {
           "automargin": true,
           "gridcolor": "white",
           "linecolor": "white",
           "ticks": "",
           "title": {
            "standoff": 15
           },
           "zerolinecolor": "white",
           "zerolinewidth": 2
          },
          "yaxis": {
           "automargin": true,
           "gridcolor": "white",
           "linecolor": "white",
           "ticks": "",
           "title": {
            "standoff": 15
           },
           "zerolinecolor": "white",
           "zerolinewidth": 2
          }
         }
        },
        "updatemenus": [
         {
          "buttons": [
           {
            "args": [
             null,
             {
              "frame": {
               "duration": 500,
               "redraw": false
              },
              "fromcurrent": true,
              "mode": "immediate",
              "transition": {
               "duration": 500,
               "easing": "linear"
              }
             }
            ],
            "label": "&#9654;",
            "method": "animate"
           },
           {
            "args": [
             [
              null
             ],
             {
              "frame": {
               "duration": 0,
               "redraw": false
              },
              "fromcurrent": true,
              "mode": "immediate",
              "transition": {
               "duration": 0,
               "easing": "linear"
              }
             }
            ],
            "label": "&#9724;",
            "method": "animate"
           }
          ],
          "direction": "left",
          "pad": {
           "r": 10,
           "t": 70
          },
          "showactive": false,
          "type": "buttons",
          "x": 0.1,
          "xanchor": "right",
          "y": 0,
          "yanchor": "top"
         }
        ],
        "xaxis": {
         "anchor": "y",
         "domain": [
          0,
          1
         ],
         "title": {
          "text": "x"
         }
        },
        "yaxis": {
         "anchor": "x",
         "domain": [
          0,
          1
         ],
         "title": {
          "text": "value"
         }
        }
       }
      },
      "text/html": [
       "<div>                        <script type=\"text/javascript\">window.PlotlyConfig = {MathJaxConfig: 'local'};</script>\n",
       "        <script charset=\"utf-8\" src=\"https://cdn.plot.ly/plotly-3.0.1.min.js\"></script>                <div id=\"eff46d6c-63d0-49e3-b7ca-f46253461478\" class=\"plotly-graph-div\" style=\"height:100%; width:100%;\"></div>            <script type=\"text/javascript\">                window.PLOTLYENV=window.PLOTLYENV || {};                                if (document.getElementById(\"eff46d6c-63d0-49e3-b7ca-f46253461478\")) {                    Plotly.newPlot(                        \"eff46d6c-63d0-49e3-b7ca-f46253461478\",                        [{\"hovertemplate\":\"variable=target\\u003cbr\\u003eobject=Object A\\u003cbr\\u003ex=%{x}\\u003cbr\\u003evalue=%{y}\\u003cextra\\u003e\\u003c\\u002fextra\\u003e\",\"legendgroup\":\"target\",\"line\":{\"color\":\"#636efa\",\"dash\":\"solid\"},\"marker\":{\"symbol\":\"circle\"},\"mode\":\"lines\",\"name\":\"target\",\"orientation\":\"v\",\"showlegend\":true,\"x\":{\"dtype\":\"i1\",\"bdata\":\"AAECAwQFBgcICQoLDA0ODxAREhMUFRYXGBkaGxwdHh8gISIjJCUmJygpKissLS4vMDE=\"},\"xaxis\":\"x\",\"y\":{\"dtype\":\"f8\",\"bdata\":\"Z6C5XHKUxj\\u002fdQVVVO43OP43g+V\\u002fLL98\\u002f7j4xdUo96T+2cuEOfO7sP5scXIi+zOc\\u002fUFbOzslu8D8oqwv3zwzvP96N\\u002fDfzp+8\\u002f0aR8oA898D99byML947tP6GPDhyLhu4\\u002fJjSKI9YM6D\\u002fTllnVqeLgP5ksDN+rR9g\\u002f\\u002fDzmvZpVxj\\u002fbQ8ge\\u002fU23P0\\u002f7063qqtG\\u002fdHtoJ1NR2r817snbA1DmvwFNeFGRMfC\\u002fy4qvHoHM6b+lNjnIYK\\u002frv6QmQi4mFvG\\u002frDyHjjKd6L8f1zxGdqvxv6d7CnHGH+y\\u002fBCil49NT6b+X4TL8XZfevw1a9gqlVNS\\u002fL2iC4RPk0L8INwHdCi6nv\\u002fh2RnDnb5w\\u002fjROTutMLvT\\u002fxs1OsiGXdPxQJxoMdhuU\\u002fSlTbzZRV7T\\u002fr5s9nmk3wPyGh5lrmu+0\\u002fikonsWv87j8BpHwh2U3sP4O0bp8vj+k\\u002fTW3UAxnj5T\\u002fOBUOYQb7tP2kTn3MiFuE\\u002faTkaiGiS1z\\u002fUj7Bl\\u002fvy4P4\\u002f3CAcLP7o\\u002f2oHsVWF81b81jWGe8tDYvw==\"},\"yaxis\":\"y\",\"type\":\"scatter\"},{\"hovertemplate\":\"variable=pred_init\\u003cbr\\u003eobject=Object A\\u003cbr\\u003ex=%{x}\\u003cbr\\u003evalue=%{y}\\u003cextra\\u003e\\u003c\\u002fextra\\u003e\",\"legendgroup\":\"pred_init\",\"line\":{\"color\":\"#EF553B\",\"dash\":\"solid\"},\"marker\":{\"symbol\":\"circle\"},\"mode\":\"lines\",\"name\":\"pred_init\",\"orientation\":\"v\",\"showlegend\":true,\"x\":{\"dtype\":\"i1\",\"bdata\":\"AAECAwQFBgcICQoLDA0ODxAREhMUFRYXGBkaGxwdHh8gISIjJCUmJygpKissLS4vMDE=\"},\"xaxis\":\"x\",\"y\":{\"dtype\":\"f8\",\"bdata\":\"9A0yrE4FZr8q9XIBazrUP8Ft9\\u002ff8pdg\\u002fqGG4bfGu4T9qIyOTT8DsPxYowPCFiuo\\u002f4Cn\\u002fekel8D8Vi97vMH7wP0HZwz+tmOs\\u002fegnalM4n7j\\u002f+SmSwNEHpP0C9T5VzOew\\u002ffahW3pPY4j97vUK5SVnHPwyvBbUPjdo\\u002f21S+X\\u002fwYuD+Qoz5rrBTOv+HlZpLxfMe\\u002fEv3IFy734r8QJV1h6Prlv0cV8+OXuOu\\u002f29ESxC356L8Sn0x\\u002flWTkv1lArOy3CfW\\u002fnsnHPQAK5r82QAxcddzzv9W8eZ4+2fC\\u002funQaCTcI7b9hHI2YIUrhv0AAnCOanNO\\u002fKXOcaArO37\\u002fzNNpWJUTBP7Jfy7mB874\\u002fNeLuWQPOyL9KAbOMHjnoP9nZ+4gr1PA\\u002fJMdJZXJw8j+gHHfdanTvP3lbnSeU4eY\\u002fODWcZgTe8j+LsnB2SLnpPxUirR8FsfA\\u002fXJJO31U45z9XKCfZMP\\u002fxP7wSMFoBXuM\\u002fEWBFiNpO4D+c456enoa5P8f+FoKza90\\u002fEpB6wYPc07+DBud\\u002ftavTvw==\"},\"yaxis\":\"y\",\"type\":\"scatter\"},{\"hovertemplate\":\"variable=pred\\u003cbr\\u003eobject=Object A\\u003cbr\\u003ex=%{x}\\u003cbr\\u003evalue=%{y}\\u003cextra\\u003e\\u003c\\u002fextra\\u003e\",\"legendgroup\":\"pred\",\"line\":{\"color\":\"#00cc96\",\"dash\":\"solid\"},\"marker\":{\"symbol\":\"circle\"},\"mode\":\"lines\",\"name\":\"pred\",\"orientation\":\"v\",\"showlegend\":true,\"x\":{\"dtype\":\"i1\",\"bdata\":\"AAECAwQFBgcICQoLDA0ODxAREhMUFRYXGBkaGxwdHh8gISIjJCUmJygpKissLS4vMDE=\"},\"xaxis\":\"x\",\"y\":{\"dtype\":\"f8\",\"bdata\":\"9A0yrE4Fdr8q9XIBazr0P8Jt9\\u002ff8peg\\u002fqGG4bfGuAUBqIyOTT8D8PxYowPCFigpA4Cn\\u002fekelAEAVi97vMH4QQEHZwz+tmPs\\u002fegnalM4nDkD+SmSwNEH5P0C9T5VzOQxAfKhW3pPY8j97vUK5SVnnPwyvBbUPjeo\\u002f21S+X\\u002fwY2D+Qoz5rrBTev+LlZpLxfOe\\u002fEv3IFy738r8QJV1h6PoFwEgV8+OXuPu\\u002f2tESxC35CMASn0x\\u002flWT0v1lArOy3CRXAnsnHPQAK9r82QAxcddwTwNW8eZ4+2QDAunQaCTcIDcBhHI2YIUrxv0AAnCOanPO\\u002fKXOcaArO77\\u002fzNNpWJUThP7Jfy7mB884\\u002fNeLuWQPO6L9KAbOMHjn4P9nZ+4gr1BBAJMdJZXJwAkCgHHfdanQPQHlbnSeU4fY\\u002fODWcZgTeEkCLsnB2SLn5PxUirR8FsRBAXJJO31U49z9XKCfZMP8RQLsSMFoBXvM\\u002fEWBFiNpOAECc456enobJP8f+FoKza\\u002f0\\u002fE5B6wYPc47+DBud\\u002ftavzvw==\"},\"yaxis\":\"y\",\"type\":\"scatter\"}],                        {\"template\":{\"data\":{\"histogram2dcontour\":[{\"type\":\"histogram2dcontour\",\"colorbar\":{\"outlinewidth\":0,\"ticks\":\"\"},\"colorscale\":[[0.0,\"#0d0887\"],[0.1111111111111111,\"#46039f\"],[0.2222222222222222,\"#7201a8\"],[0.3333333333333333,\"#9c179e\"],[0.4444444444444444,\"#bd3786\"],[0.5555555555555556,\"#d8576b\"],[0.6666666666666666,\"#ed7953\"],[0.7777777777777778,\"#fb9f3a\"],[0.8888888888888888,\"#fdca26\"],[1.0,\"#f0f921\"]]}],\"choropleth\":[{\"type\":\"choropleth\",\"colorbar\":{\"outlinewidth\":0,\"ticks\":\"\"}}],\"histogram2d\":[{\"type\":\"histogram2d\",\"colorbar\":{\"outlinewidth\":0,\"ticks\":\"\"},\"colorscale\":[[0.0,\"#0d0887\"],[0.1111111111111111,\"#46039f\"],[0.2222222222222222,\"#7201a8\"],[0.3333333333333333,\"#9c179e\"],[0.4444444444444444,\"#bd3786\"],[0.5555555555555556,\"#d8576b\"],[0.6666666666666666,\"#ed7953\"],[0.7777777777777778,\"#fb9f3a\"],[0.8888888888888888,\"#fdca26\"],[1.0,\"#f0f921\"]]}],\"heatmap\":[{\"type\":\"heatmap\",\"colorbar\":{\"outlinewidth\":0,\"ticks\":\"\"},\"colorscale\":[[0.0,\"#0d0887\"],[0.1111111111111111,\"#46039f\"],[0.2222222222222222,\"#7201a8\"],[0.3333333333333333,\"#9c179e\"],[0.4444444444444444,\"#bd3786\"],[0.5555555555555556,\"#d8576b\"],[0.6666666666666666,\"#ed7953\"],[0.7777777777777778,\"#fb9f3a\"],[0.8888888888888888,\"#fdca26\"],[1.0,\"#f0f921\"]]}],\"contourcarpet\":[{\"type\":\"contourcarpet\",\"colorbar\":{\"outlinewidth\":0,\"ticks\":\"\"}}],\"contour\":[{\"type\":\"contour\",\"colorbar\":{\"outlinewidth\":0,\"ticks\":\"\"},\"colorscale\":[[0.0,\"#0d0887\"],[0.1111111111111111,\"#46039f\"],[0.2222222222222222,\"#7201a8\"],[0.3333333333333333,\"#9c179e\"],[0.4444444444444444,\"#bd3786\"],[0.5555555555555556,\"#d8576b\"],[0.6666666666666666,\"#ed7953\"],[0.7777777777777778,\"#fb9f3a\"],[0.8888888888888888,\"#fdca26\"],[1.0,\"#f0f921\"]]}],\"surface\":[{\"type\":\"surface\",\"colorbar\":{\"outlinewidth\":0,\"ticks\":\"\"},\"colorscale\":[[0.0,\"#0d0887\"],[0.1111111111111111,\"#46039f\"],[0.2222222222222222,\"#7201a8\"],[0.3333333333333333,\"#9c179e\"],[0.4444444444444444,\"#bd3786\"],[0.5555555555555556,\"#d8576b\"],[0.6666666666666666,\"#ed7953\"],[0.7777777777777778,\"#fb9f3a\"],[0.8888888888888888,\"#fdca26\"],[1.0,\"#f0f921\"]]}],\"mesh3d\":[{\"type\":\"mesh3d\",\"colorbar\":{\"outlinewidth\":0,\"ticks\":\"\"}}],\"scatter\":[{\"fillpattern\":{\"fillmode\":\"overlay\",\"size\":10,\"solidity\":0.2},\"type\":\"scatter\"}],\"parcoords\":[{\"type\":\"parcoords\",\"line\":{\"colorbar\":{\"outlinewidth\":0,\"ticks\":\"\"}}}],\"scatterpolargl\":[{\"type\":\"scatterpolargl\",\"marker\":{\"colorbar\":{\"outlinewidth\":0,\"ticks\":\"\"}}}],\"bar\":[{\"error_x\":{\"color\":\"#2a3f5f\"},\"error_y\":{\"color\":\"#2a3f5f\"},\"marker\":{\"line\":{\"color\":\"#E5ECF6\",\"width\":0.5},\"pattern\":{\"fillmode\":\"overlay\",\"size\":10,\"solidity\":0.2}},\"type\":\"bar\"}],\"scattergeo\":[{\"type\":\"scattergeo\",\"marker\":{\"colorbar\":{\"outlinewidth\":0,\"ticks\":\"\"}}}],\"scatterpolar\":[{\"type\":\"scatterpolar\",\"marker\":{\"colorbar\":{\"outlinewidth\":0,\"ticks\":\"\"}}}],\"histogram\":[{\"marker\":{\"pattern\":{\"fillmode\":\"overlay\",\"size\":10,\"solidity\":0.2}},\"type\":\"histogram\"}],\"scattergl\":[{\"type\":\"scattergl\",\"marker\":{\"colorbar\":{\"outlinewidth\":0,\"ticks\":\"\"}}}],\"scatter3d\":[{\"type\":\"scatter3d\",\"line\":{\"colorbar\":{\"outlinewidth\":0,\"ticks\":\"\"}},\"marker\":{\"colorbar\":{\"outlinewidth\":0,\"ticks\":\"\"}}}],\"scattermap\":[{\"type\":\"scattermap\",\"marker\":{\"colorbar\":{\"outlinewidth\":0,\"ticks\":\"\"}}}],\"scattermapbox\":[{\"type\":\"scattermapbox\",\"marker\":{\"colorbar\":{\"outlinewidth\":0,\"ticks\":\"\"}}}],\"scatterternary\":[{\"type\":\"scatterternary\",\"marker\":{\"colorbar\":{\"outlinewidth\":0,\"ticks\":\"\"}}}],\"scattercarpet\":[{\"type\":\"scattercarpet\",\"marker\":{\"colorbar\":{\"outlinewidth\":0,\"ticks\":\"\"}}}],\"carpet\":[{\"aaxis\":{\"endlinecolor\":\"#2a3f5f\",\"gridcolor\":\"white\",\"linecolor\":\"white\",\"minorgridcolor\":\"white\",\"startlinecolor\":\"#2a3f5f\"},\"baxis\":{\"endlinecolor\":\"#2a3f5f\",\"gridcolor\":\"white\",\"linecolor\":\"white\",\"minorgridcolor\":\"white\",\"startlinecolor\":\"#2a3f5f\"},\"type\":\"carpet\"}],\"table\":[{\"cells\":{\"fill\":{\"color\":\"#EBF0F8\"},\"line\":{\"color\":\"white\"}},\"header\":{\"fill\":{\"color\":\"#C8D4E3\"},\"line\":{\"color\":\"white\"}},\"type\":\"table\"}],\"barpolar\":[{\"marker\":{\"line\":{\"color\":\"#E5ECF6\",\"width\":0.5},\"pattern\":{\"fillmode\":\"overlay\",\"size\":10,\"solidity\":0.2}},\"type\":\"barpolar\"}],\"pie\":[{\"automargin\":true,\"type\":\"pie\"}]},\"layout\":{\"autotypenumbers\":\"strict\",\"colorway\":[\"#636efa\",\"#EF553B\",\"#00cc96\",\"#ab63fa\",\"#FFA15A\",\"#19d3f3\",\"#FF6692\",\"#B6E880\",\"#FF97FF\",\"#FECB52\"],\"font\":{\"color\":\"#2a3f5f\"},\"hovermode\":\"closest\",\"hoverlabel\":{\"align\":\"left\"},\"paper_bgcolor\":\"white\",\"plot_bgcolor\":\"#E5ECF6\",\"polar\":{\"bgcolor\":\"#E5ECF6\",\"angularaxis\":{\"gridcolor\":\"white\",\"linecolor\":\"white\",\"ticks\":\"\"},\"radialaxis\":{\"gridcolor\":\"white\",\"linecolor\":\"white\",\"ticks\":\"\"}},\"ternary\":{\"bgcolor\":\"#E5ECF6\",\"aaxis\":{\"gridcolor\":\"white\",\"linecolor\":\"white\",\"ticks\":\"\"},\"baxis\":{\"gridcolor\":\"white\",\"linecolor\":\"white\",\"ticks\":\"\"},\"caxis\":{\"gridcolor\":\"white\",\"linecolor\":\"white\",\"ticks\":\"\"}},\"coloraxis\":{\"colorbar\":{\"outlinewidth\":0,\"ticks\":\"\"}},\"colorscale\":{\"sequential\":[[0.0,\"#0d0887\"],[0.1111111111111111,\"#46039f\"],[0.2222222222222222,\"#7201a8\"],[0.3333333333333333,\"#9c179e\"],[0.4444444444444444,\"#bd3786\"],[0.5555555555555556,\"#d8576b\"],[0.6666666666666666,\"#ed7953\"],[0.7777777777777778,\"#fb9f3a\"],[0.8888888888888888,\"#fdca26\"],[1.0,\"#f0f921\"]],\"sequentialminus\":[[0.0,\"#0d0887\"],[0.1111111111111111,\"#46039f\"],[0.2222222222222222,\"#7201a8\"],[0.3333333333333333,\"#9c179e\"],[0.4444444444444444,\"#bd3786\"],[0.5555555555555556,\"#d8576b\"],[0.6666666666666666,\"#ed7953\"],[0.7777777777777778,\"#fb9f3a\"],[0.8888888888888888,\"#fdca26\"],[1.0,\"#f0f921\"]],\"diverging\":[[0,\"#8e0152\"],[0.1,\"#c51b7d\"],[0.2,\"#de77ae\"],[0.3,\"#f1b6da\"],[0.4,\"#fde0ef\"],[0.5,\"#f7f7f7\"],[0.6,\"#e6f5d0\"],[0.7,\"#b8e186\"],[0.8,\"#7fbc41\"],[0.9,\"#4d9221\"],[1,\"#276419\"]]},\"xaxis\":{\"gridcolor\":\"white\",\"linecolor\":\"white\",\"ticks\":\"\",\"title\":{\"standoff\":15},\"zerolinecolor\":\"white\",\"automargin\":true,\"zerolinewidth\":2},\"yaxis\":{\"gridcolor\":\"white\",\"linecolor\":\"white\",\"ticks\":\"\",\"title\":{\"standoff\":15},\"zerolinecolor\":\"white\",\"automargin\":true,\"zerolinewidth\":2},\"scene\":{\"xaxis\":{\"backgroundcolor\":\"#E5ECF6\",\"gridcolor\":\"white\",\"linecolor\":\"white\",\"showbackground\":true,\"ticks\":\"\",\"zerolinecolor\":\"white\",\"gridwidth\":2},\"yaxis\":{\"backgroundcolor\":\"#E5ECF6\",\"gridcolor\":\"white\",\"linecolor\":\"white\",\"showbackground\":true,\"ticks\":\"\",\"zerolinecolor\":\"white\",\"gridwidth\":2},\"zaxis\":{\"backgroundcolor\":\"#E5ECF6\",\"gridcolor\":\"white\",\"linecolor\":\"white\",\"showbackground\":true,\"ticks\":\"\",\"zerolinecolor\":\"white\",\"gridwidth\":2}},\"shapedefaults\":{\"line\":{\"color\":\"#2a3f5f\"}},\"annotationdefaults\":{\"arrowcolor\":\"#2a3f5f\",\"arrowhead\":0,\"arrowwidth\":1},\"geo\":{\"bgcolor\":\"white\",\"landcolor\":\"#E5ECF6\",\"subunitcolor\":\"white\",\"showland\":true,\"showlakes\":true,\"lakecolor\":\"white\"},\"title\":{\"x\":0.05},\"mapbox\":{\"style\":\"light\"}}},\"xaxis\":{\"anchor\":\"y\",\"domain\":[0.0,1.0],\"title\":{\"text\":\"x\"}},\"yaxis\":{\"anchor\":\"x\",\"domain\":[0.0,1.0],\"title\":{\"text\":\"value\"}},\"legend\":{\"title\":{\"text\":\"variable\"},\"tracegroupgap\":0},\"margin\":{\"t\":60},\"updatemenus\":[{\"buttons\":[{\"args\":[null,{\"frame\":{\"duration\":500,\"redraw\":false},\"mode\":\"immediate\",\"fromcurrent\":true,\"transition\":{\"duration\":500,\"easing\":\"linear\"}}],\"label\":\"&#9654;\",\"method\":\"animate\"},{\"args\":[[null],{\"frame\":{\"duration\":0,\"redraw\":false},\"mode\":\"immediate\",\"fromcurrent\":true,\"transition\":{\"duration\":0,\"easing\":\"linear\"}}],\"label\":\"&#9724;\",\"method\":\"animate\"}],\"direction\":\"left\",\"pad\":{\"r\":10,\"t\":70},\"showactive\":false,\"type\":\"buttons\",\"x\":0.1,\"xanchor\":\"right\",\"y\":0,\"yanchor\":\"top\"}],\"sliders\":[{\"active\":0,\"currentvalue\":{\"prefix\":\"object=\"},\"len\":0.9,\"pad\":{\"b\":10,\"t\":60},\"steps\":[{\"args\":[[\"Object A\"],{\"frame\":{\"duration\":0,\"redraw\":false},\"mode\":\"immediate\",\"fromcurrent\":true,\"transition\":{\"duration\":0,\"easing\":\"linear\"}}],\"label\":\"Object A\",\"method\":\"animate\"},{\"args\":[[\"Object B\"],{\"frame\":{\"duration\":0,\"redraw\":false},\"mode\":\"immediate\",\"fromcurrent\":true,\"transition\":{\"duration\":0,\"easing\":\"linear\"}}],\"label\":\"Object B\",\"method\":\"animate\"},{\"args\":[[\"Object C\"],{\"frame\":{\"duration\":0,\"redraw\":false},\"mode\":\"immediate\",\"fromcurrent\":true,\"transition\":{\"duration\":0,\"easing\":\"linear\"}}],\"label\":\"Object C\",\"method\":\"animate\"}],\"x\":0.1,\"xanchor\":\"left\",\"y\":0,\"yanchor\":\"top\"}]},                        {\"responsive\": true}                    ).then(function(){\n",
       "                            Plotly.addFrames('eff46d6c-63d0-49e3-b7ca-f46253461478', [{\"data\":[{\"hovertemplate\":\"variable=target\\u003cbr\\u003eobject=Object A\\u003cbr\\u003ex=%{x}\\u003cbr\\u003evalue=%{y}\\u003cextra\\u003e\\u003c\\u002fextra\\u003e\",\"legendgroup\":\"target\",\"line\":{\"color\":\"#636efa\",\"dash\":\"solid\"},\"marker\":{\"symbol\":\"circle\"},\"mode\":\"lines\",\"name\":\"target\",\"orientation\":\"v\",\"showlegend\":true,\"x\":{\"dtype\":\"i1\",\"bdata\":\"AAECAwQFBgcICQoLDA0ODxAREhMUFRYXGBkaGxwdHh8gISIjJCUmJygpKissLS4vMDE=\"},\"xaxis\":\"x\",\"y\":{\"dtype\":\"f8\",\"bdata\":\"Z6C5XHKUxj\\u002fdQVVVO43OP43g+V\\u002fLL98\\u002f7j4xdUo96T+2cuEOfO7sP5scXIi+zOc\\u002fUFbOzslu8D8oqwv3zwzvP96N\\u002fDfzp+8\\u002f0aR8oA898D99byML947tP6GPDhyLhu4\\u002fJjSKI9YM6D\\u002fTllnVqeLgP5ksDN+rR9g\\u002f\\u002fDzmvZpVxj\\u002fbQ8ge\\u002fU23P0\\u002f7063qqtG\\u002fdHtoJ1NR2r817snbA1DmvwFNeFGRMfC\\u002fy4qvHoHM6b+lNjnIYK\\u002frv6QmQi4mFvG\\u002frDyHjjKd6L8f1zxGdqvxv6d7CnHGH+y\\u002fBCil49NT6b+X4TL8XZfevw1a9gqlVNS\\u002fL2iC4RPk0L8INwHdCi6nv\\u002fh2RnDnb5w\\u002fjROTutMLvT\\u002fxs1OsiGXdPxQJxoMdhuU\\u002fSlTbzZRV7T\\u002fr5s9nmk3wPyGh5lrmu+0\\u002fikonsWv87j8BpHwh2U3sP4O0bp8vj+k\\u002fTW3UAxnj5T\\u002fOBUOYQb7tP2kTn3MiFuE\\u002faTkaiGiS1z\\u002fUj7Bl\\u002fvy4P4\\u002f3CAcLP7o\\u002f2oHsVWF81b81jWGe8tDYvw==\"},\"yaxis\":\"y\",\"type\":\"scatter\"},{\"hovertemplate\":\"variable=pred_init\\u003cbr\\u003eobject=Object A\\u003cbr\\u003ex=%{x}\\u003cbr\\u003evalue=%{y}\\u003cextra\\u003e\\u003c\\u002fextra\\u003e\",\"legendgroup\":\"pred_init\",\"line\":{\"color\":\"#EF553B\",\"dash\":\"solid\"},\"marker\":{\"symbol\":\"circle\"},\"mode\":\"lines\",\"name\":\"pred_init\",\"orientation\":\"v\",\"showlegend\":true,\"x\":{\"dtype\":\"i1\",\"bdata\":\"AAECAwQFBgcICQoLDA0ODxAREhMUFRYXGBkaGxwdHh8gISIjJCUmJygpKissLS4vMDE=\"},\"xaxis\":\"x\",\"y\":{\"dtype\":\"f8\",\"bdata\":\"9A0yrE4FZr8q9XIBazrUP8Ft9\\u002ff8pdg\\u002fqGG4bfGu4T9qIyOTT8DsPxYowPCFiuo\\u002f4Cn\\u002fekel8D8Vi97vMH7wP0HZwz+tmOs\\u002fegnalM4n7j\\u002f+SmSwNEHpP0C9T5VzOew\\u002ffahW3pPY4j97vUK5SVnHPwyvBbUPjdo\\u002f21S+X\\u002fwYuD+Qoz5rrBTOv+HlZpLxfMe\\u002fEv3IFy734r8QJV1h6Prlv0cV8+OXuOu\\u002f29ESxC356L8Sn0x\\u002flWTkv1lArOy3CfW\\u002fnsnHPQAK5r82QAxcddzzv9W8eZ4+2fC\\u002funQaCTcI7b9hHI2YIUrhv0AAnCOanNO\\u002fKXOcaArO37\\u002fzNNpWJUTBP7Jfy7mB874\\u002fNeLuWQPOyL9KAbOMHjnoP9nZ+4gr1PA\\u002fJMdJZXJw8j+gHHfdanTvP3lbnSeU4eY\\u002fODWcZgTe8j+LsnB2SLnpPxUirR8FsfA\\u002fXJJO31U45z9XKCfZMP\\u002fxP7wSMFoBXuM\\u002fEWBFiNpO4D+c456enoa5P8f+FoKza90\\u002fEpB6wYPc07+DBud\\u002ftavTvw==\"},\"yaxis\":\"y\",\"type\":\"scatter\"},{\"hovertemplate\":\"variable=pred\\u003cbr\\u003eobject=Object A\\u003cbr\\u003ex=%{x}\\u003cbr\\u003evalue=%{y}\\u003cextra\\u003e\\u003c\\u002fextra\\u003e\",\"legendgroup\":\"pred\",\"line\":{\"color\":\"#00cc96\",\"dash\":\"solid\"},\"marker\":{\"symbol\":\"circle\"},\"mode\":\"lines\",\"name\":\"pred\",\"orientation\":\"v\",\"showlegend\":true,\"x\":{\"dtype\":\"i1\",\"bdata\":\"AAECAwQFBgcICQoLDA0ODxAREhMUFRYXGBkaGxwdHh8gISIjJCUmJygpKissLS4vMDE=\"},\"xaxis\":\"x\",\"y\":{\"dtype\":\"f8\",\"bdata\":\"9A0yrE4Fdr8q9XIBazr0P8Jt9\\u002ff8peg\\u002fqGG4bfGuAUBqIyOTT8D8PxYowPCFigpA4Cn\\u002fekelAEAVi97vMH4QQEHZwz+tmPs\\u002fegnalM4nDkD+SmSwNEH5P0C9T5VzOQxAfKhW3pPY8j97vUK5SVnnPwyvBbUPjeo\\u002f21S+X\\u002fwY2D+Qoz5rrBTev+LlZpLxfOe\\u002fEv3IFy738r8QJV1h6PoFwEgV8+OXuPu\\u002f2tESxC35CMASn0x\\u002flWT0v1lArOy3CRXAnsnHPQAK9r82QAxcddwTwNW8eZ4+2QDAunQaCTcIDcBhHI2YIUrxv0AAnCOanPO\\u002fKXOcaArO77\\u002fzNNpWJUThP7Jfy7mB884\\u002fNeLuWQPO6L9KAbOMHjn4P9nZ+4gr1BBAJMdJZXJwAkCgHHfdanQPQHlbnSeU4fY\\u002fODWcZgTeEkCLsnB2SLn5PxUirR8FsRBAXJJO31U49z9XKCfZMP8RQLsSMFoBXvM\\u002fEWBFiNpOAECc456enobJP8f+FoKza\\u002f0\\u002fE5B6wYPc47+DBud\\u002ftavzvw==\"},\"yaxis\":\"y\",\"type\":\"scatter\"}],\"name\":\"Object A\"},{\"data\":[{\"hovertemplate\":\"variable=target\\u003cbr\\u003eobject=Object B\\u003cbr\\u003ex=%{x}\\u003cbr\\u003evalue=%{y}\\u003cextra\\u003e\\u003c\\u002fextra\\u003e\",\"legendgroup\":\"target\",\"line\":{\"color\":\"#636efa\",\"dash\":\"solid\"},\"marker\":{\"symbol\":\"circle\"},\"mode\":\"lines\",\"name\":\"target\",\"orientation\":\"v\",\"showlegend\":true,\"x\":{\"dtype\":\"i1\",\"bdata\":\"AAECAwQFBgcICQoLDA0ODxAREhMUFRYXGBkaGxwdHh8gISIjJCUmJygpKissLS4vMDE=\"},\"xaxis\":\"x\",\"y\":{\"dtype\":\"f8\",\"bdata\":\"iEzaTLUayD+OFITJUVuwP3+gP+GqytA\\u002fHJweUa4r5T\\u002fWY4TzjjPjP5h5c7vFkvA\\u002fI1wqcm2A7D9vk508fSTtP0Mw6vnjEfM\\u002fu8gte0zz8T8qcYg1b4nxP9KW1y9vxew\\u002f+NPX1+Db4j949fFitpvmP6CTkmBZudM\\u002fpC5zpLVVzD+hgjLympyiP6LT9wLBWNG\\u002fD+2ptSVk2L\\u002feKkA+3qDgv7fzCrZbA+e\\u002fxlZW7pNo77\\u002fTmjodNX\\u002ftvwWzyMq9jeu\\u002frFcJBckM8b9FwBeZFirvv0EGJgO9qe2\\u002fTlK\\u002f4JHP4r+wFayplwzivzorC+Z0INu\\u002fFEynv1\\u002fP1r8678heS92dvwN4t225Jak\\u002fj1kJ5HEk1D\\u002fgiB1uyI3bP2tMahorMOc\\u002fzQikARI+6z\\u002fV5MEQlBfsP3pzyKbNHvA\\u002fE3WYj6F07D9ybs09L+PqP8DzPhZqgu8\\u002fjQJQxmnh6z9aj2QWZojpP07IrPHpV+o\\u002fUkJbz8o14D+ZeqlVhdjAP7i7b4IUeME\\u002fhlFjFieU078uJzd+p2javw==\"},\"yaxis\":\"y\",\"type\":\"scatter\"},{\"hovertemplate\":\"variable=pred_init\\u003cbr\\u003eobject=Object B\\u003cbr\\u003ex=%{x}\\u003cbr\\u003evalue=%{y}\\u003cextra\\u003e\\u003c\\u002fextra\\u003e\",\"legendgroup\":\"pred_init\",\"line\":{\"color\":\"#EF553B\",\"dash\":\"solid\"},\"marker\":{\"symbol\":\"circle\"},\"mode\":\"lines\",\"name\":\"pred_init\",\"orientation\":\"v\",\"showlegend\":true,\"x\":{\"dtype\":\"i1\",\"bdata\":\"AAECAwQFBgcICQoLDA0ODxAREhMUFRYXGBkaGxwdHh8gISIjJCUmJygpKissLS4vMDE=\"},\"xaxis\":\"x\",\"y\":{\"dtype\":\"f8\",\"bdata\":\"gcN34npbxj9dwCl+HAXaPztCMAQFCb0\\u002faRJ9vUnD3z9EmTH4QJLiP9tbWYCA5uw\\u002fTIuTZifb8T9YYuUhITvmP2MScLfEy+4\\u002fCEWF9qKM8D\\u002fuxtR35OLvP9YJR8tjj\\u002fQ\\u002fZ42\\u002fymjv6D+CWOsJKCvnP2BDzDpeJ7A\\u002fNNu50qn52D\\u002fqBeIn3PPEvw4CBXdUj+K\\u002f0gvILGxewr8DwNbALTPdv6q\\u002ftYafHuG\\u002fWSgw3V9e7b\\u002fmZM9OYAPov+vHjbdhuO+\\u002flWHRdglc9L\\u002fRxfAiXc3qvxT1ebkFZ\\u002fG\\u002fAVtiBFQ557\\u002fsycrX7\\u002fbkv+L0OlEu59q\\u002f6BpMXVdX27\\u002flAOJzRXfTv+sWikcsYbS\\u002fzBRLtmeiwL9OaetKRcfhP00b\\u002f9a23tk\\u002f1HmBD6Ys5D+yAHevC23sP3LJexnoges\\u002fmfsbZVoq8z\\u002fuiiHA95ziP0lDgqv5m\\u002fA\\u002flPDYXQ2h6z\\u002fiCxQqmA7iP\\u002f3eQxVAse0\\u002fd62kIHY53j\\u002fEWKCBQ03SP8gbspt\\u002fRtM\\u002flzHjgK04wD8IBRotPZrCvw==\"},\"yaxis\":\"y\",\"type\":\"scatter\"},{\"hovertemplate\":\"variable=pred\\u003cbr\\u003eobject=Object B\\u003cbr\\u003ex=%{x}\\u003cbr\\u003evalue=%{y}\\u003cextra\\u003e\\u003c\\u002fextra\\u003e\",\"legendgroup\":\"pred\",\"line\":{\"color\":\"#00cc96\",\"dash\":\"solid\"},\"marker\":{\"symbol\":\"circle\"},\"mode\":\"lines\",\"name\":\"pred\",\"orientation\":\"v\",\"showlegend\":true,\"x\":{\"dtype\":\"i1\",\"bdata\":\"AAECAwQFBgcICQoLDA0ODxAREhMUFRYXGBkaGxwdHh8gISIjJCUmJygpKissLS4vMDE=\"},\"xaxis\":\"x\",\"y\":{\"dtype\":\"f8\",\"bdata\":\"YrQVm1ny6z9dwCl+HAXqP2UpniKjJeI\\u002faRJ9vUnD7z+V\\u002fz020TYHQNtbWYCA5vw\\u002fH244QPFRFkBYYuUhITv2P34LpvJaPxNACEWF9qKMAEBV\\u002fOTKzu0TQNYJR8tjjwRAwHBv\\u002fUIrD0CCWOsJKCv3PzhUf8k1MdQ\\u002fNdu50qn56D9lh9ox0zDqvw4CBXdUj\\u002fK\\u002fxw76Nwf25r8DwNbALTPtv5QvY2hHZgXAWSgw3V9e\\u002fb8fPoNiOAQOwOvHjbdhuP+\\u002f+rmF1AtzGcDQxfAiXc36v1ly2CfHwBXAAVtiBFQ5979nfL3NqzQKwOP0OlEu5+q\\u002f0ZBPmpYWAcDlAOJzRXfjv6WcbFl3edm\\u002fzBRLtmei0L+hQ6adFjkGQE0b\\u002f9a23uk\\u002fSNhhk883CUCxAHevC238P+dd7Q8xMRFAmfsbZVoqA0Cp7SmwNUQHQElDgqv5mwBAXJanWqhEEUDiCxQqmA7yP15rSg3IjhJAd62kIHY57j\\u002f2bghilOD2P8gbspt\\u002fRuM\\u002f\\u002ff0b4dhG5D8IBRotPZrSvw==\"},\"yaxis\":\"y\",\"type\":\"scatter\"}],\"name\":\"Object B\"},{\"data\":[{\"hovertemplate\":\"variable=target\\u003cbr\\u003eobject=Object C\\u003cbr\\u003ex=%{x}\\u003cbr\\u003evalue=%{y}\\u003cextra\\u003e\\u003c\\u002fextra\\u003e\",\"legendgroup\":\"target\",\"line\":{\"color\":\"#636efa\",\"dash\":\"solid\"},\"marker\":{\"symbol\":\"circle\"},\"mode\":\"lines\",\"name\":\"target\",\"orientation\":\"v\",\"showlegend\":true,\"x\":{\"dtype\":\"i1\",\"bdata\":\"AAECAwQFBgcICQoLDA0ODxAREhMUFRYXGBkaGxwdHh8gISIjJCUmJygpKissLS4vMDE=\"},\"xaxis\":\"x\",\"y\":{\"dtype\":\"f8\",\"bdata\":\"b\\u002fEYsPDmor+CnTVUmV3GP232MpPp9d8\\u002fD55V21cq5D8t2V0S+gDpP+s0bky4wOU\\u002f8qI6E1a\\u002f7T+KK46SNSztP+AoqhzpcPA\\u002fu6LP4FrZ7j9HemyiSgHwP0dV5VQR4+o\\u002fbdbM4o0h6D8N8AgeywHePw72tVUhys4\\u002f7eQNoSOhuT8iCvhBTsKuvzKm1Zoq28u\\u002fQVMW0TS5y7\\u002fPo3n39LbjvwV0ThDWRuu\\u002fpZb3gmD\\u002f7L9LYqpQTe\\u002fvvzXMmBfjQe6\\u002fkWDyk2Zn8r\\u002f37Wb1rnvuvxPz7+UMxeu\\u002fHvC1skj8578GTeBZqBzmv3v7xmLaQd+\\u002fmpl7+h\\u002f\\u002f2r9VVj8kL\\u002fPAv3yQ2ITx4K8\\u002fEDRsOfOZ1j9PlaOLQznYP6\\u002fGKeD9hec\\u002fhITtRQIu7j\\u002fbsTEofCLmP\\u002fsqNc4xK\\u002fA\\u002fWnb2iUsP8T\\u002f\\u002fkHNkop7tP046wgcF1ew\\u002f1955uwTs6j\\u002fpLZYRO4zmP6cXWYt\\u002fuuE\\u002fYLlEh15Mzz+gAZDyzqPVPxyIXwyJ\\u002fcA\\u002fCD1SNslc0L+uMvXofWvgvw==\"},\"yaxis\":\"y\",\"type\":\"scatter\"},{\"hovertemplate\":\"variable=pred_init\\u003cbr\\u003eobject=Object C\\u003cbr\\u003ex=%{x}\\u003cbr\\u003evalue=%{y}\\u003cextra\\u003e\\u003c\\u002fextra\\u003e\",\"legendgroup\":\"pred_init\",\"line\":{\"color\":\"#EF553B\",\"dash\":\"solid\"},\"marker\":{\"symbol\":\"circle\"},\"mode\":\"lines\",\"name\":\"pred_init\",\"orientation\":\"v\",\"showlegend\":true,\"x\":{\"dtype\":\"i1\",\"bdata\":\"AAECAwQFBgcICQoLDA0ODxAREhMUFRYXGBkaGxwdHh8gISIjJCUmJygpKissLS4vMDE=\"},\"xaxis\":\"x\",\"y\":{\"dtype\":\"f8\",\"bdata\":\"9AKvQDs6sT+r8napdYCuP2AteEKI4+A\\u002fe5qWzycf4j80Z1py\\u002fm3tPy\\u002fZrzX\\u002fMuo\\u002f7gX2eYQa6T90Nd+stFHkP0t0Kb1VwOY\\u002f\\u002fOHKRbNg8T8NshWOwWboPwoVQiWzpOc\\u002fzmp2po1Q5D\\u002fxTC15ilXdP0yGjh55x8K\\u002f\\u002fp6Ovr+lwT+PJu7jLuOmP+\\u002fGpPWul8m\\u002f4JmeoVDX0b81CElgYBfjv3Y9KuUJuei\\u002f9oipGf9e9784vLE7vGrjvwbk+hfCwuu\\u002fUN8Dk9p99L+r+DlYHH7wv0CxUJYanOi\\u002fIPc7OIK66L+upyST3Y3xv0\\u002f4gwKxU7O\\u002fYkbRM1hp3L+wFF5OPVWyP90WBTJdfrO\\u002fYODL2iwi5T9Z4oMKjuPbP4kWGn2Fa+s\\u002f5kpaPHd95z+v+mtP0+LtP0un6ihLYPI\\u002fc9s2e8Q59T+uhzhgk5npPzVQQKLnwOk\\u002f8Omet2DV9D8aGKFqAIffPzPIaBvC2+A\\u002fXLSv3Iwz3j87hYiXCOTWP3sJOgf76c8\\u002fXTE6WLN51b8tvDBxYhrcvw==\"},\"yaxis\":\"y\",\"type\":\"scatter\"},{\"hovertemplate\":\"variable=pred\\u003cbr\\u003eobject=Object C\\u003cbr\\u003ex=%{x}\\u003cbr\\u003evalue=%{y}\\u003cextra\\u003e\\u003c\\u002fextra\\u003e\",\"legendgroup\":\"pred\",\"line\":{\"color\":\"#00cc96\",\"dash\":\"solid\"},\"marker\":{\"symbol\":\"circle\"},\"mode\":\"lines\",\"name\":\"pred\",\"orientation\":\"v\",\"showlegend\":true,\"x\":{\"dtype\":\"i1\",\"bdata\":\"AAECAwQFBgcICQoLDA0ODxAREhMUFRYXGBkaGxwdHh8gISIjJCUmJygpKissLS4vMDE=\"},\"xaxis\":\"x\",\"y\":{\"dtype\":\"f8\",\"bdata\":\"LX494VjXuT9APOI+WOCmPxBEtGNMVek\\u002fSClUt7su2z8DPcfVfhL2P0dzQGg\\u002fpuM\\u002fc4R4W+PT8j8u0E4Dj3reP5yn201AEPE\\u002fl8Kz6AwR6j8mtZMqEU3yP2P\\u002f9FuGu+E\\u002f\\u002fcCqedR47j\\u002ft2OjaJwDWP3LJ1a01K8y\\u002fXWvxnZ94uj\\u002frnPIqYyqxP8PWLTjDMcO\\u002f0OZt8vjC2r+Ia3SQEKPcvxiu32vHivK\\u002fht5AUz+H8b+MeZFZGiDtv6Ca\\u002f5ER0uS\\u002f+M6F3Me8\\u002fr9lhVOEKr3ov4z0v\\u002fATdfK\\u002f9GgwquGL4r8ga7pczFT6vzXu\\u002fIOJ\\u002fay\\u002fAdTjJgJP5b8IH43123+rPwycPsuLPb2\\u002fIBIkSEOz3z\\u002f7yOmHqurkPx9w2h2kkOQ\\u002fkEhAbRme8T8E\\u002fJB7HmrmP\\u002fD6X71wkPs\\u002fLEnSuKbW7z8m9iaILjPzPyg8sLmtUOM\\u002fTO9qExFA\\u002fz+DkAZQQKXXPxRNFimjSek\\u002fDeh8pamm1j8kQ61xBivhPzwKUEV878c\\u002fBqUrgkYb4L9abOvUyRPVvw==\"},\"yaxis\":\"y\",\"type\":\"scatter\"}],\"name\":\"Object C\"}]);\n",
       "                        }).then(function(){\n",
       "                            Plotly.animate('eff46d6c-63d0-49e3-b7ca-f46253461478', null);\n",
       "                        })                };            </script>        </div>"
      ],
      "text/plain": [
       "Figure({\n",
       "    'data': [{'hovertemplate': 'variable=target<br>object=Object A<br>x=%{x}<br>value=%{y}<extra></extra>',\n",
       "              'legendgroup': 'target',\n",
       "              'line': {'color': '#636efa', 'dash': 'solid'},\n",
       "              'marker': {'symbol': 'circle'},\n",
       "              'mode': 'lines',\n",
       "              'name': 'target',\n",
       "              'orientation': 'v',\n",
       "              'showlegend': True,\n",
       "              'type': 'scatter',\n",
       "              'x': {'bdata': 'AAECAwQFBgcICQoLDA0ODxAREhMUFRYXGBkaGxwdHh8gISIjJCUmJygpKissLS4vMDE=', 'dtype': 'i1'},\n",
       "              'xaxis': 'x',\n",
       "              'y': {'bdata': ('Z6C5XHKUxj/dQVVVO43OP43g+V/LL9' ... 'cLP7o/2oHsVWF81b81jWGe8tDYvw=='),\n",
       "                    'dtype': 'f8'},\n",
       "              'yaxis': 'y'},\n",
       "             {'hovertemplate': 'variable=pred_init<br>object=Object A<br>x=%{x}<br>value=%{y}<extra></extra>',\n",
       "              'legendgroup': 'pred_init',\n",
       "              'line': {'color': '#EF553B', 'dash': 'solid'},\n",
       "              'marker': {'symbol': 'circle'},\n",
       "              'mode': 'lines',\n",
       "              'name': 'pred_init',\n",
       "              'orientation': 'v',\n",
       "              'showlegend': True,\n",
       "              'type': 'scatter',\n",
       "              'x': {'bdata': 'AAECAwQFBgcICQoLDA0ODxAREhMUFRYXGBkaGxwdHh8gISIjJCUmJygpKissLS4vMDE=', 'dtype': 'i1'},\n",
       "              'xaxis': 'x',\n",
       "              'y': {'bdata': ('9A0yrE4FZr8q9XIBazrUP8Ft9/f8pd' ... 'Kza90/EpB6wYPc07+DBud/tavTvw=='),\n",
       "                    'dtype': 'f8'},\n",
       "              'yaxis': 'y'},\n",
       "             {'hovertemplate': 'variable=pred<br>object=Object A<br>x=%{x}<br>value=%{y}<extra></extra>',\n",
       "              'legendgroup': 'pred',\n",
       "              'line': {'color': '#00cc96', 'dash': 'solid'},\n",
       "              'marker': {'symbol': 'circle'},\n",
       "              'mode': 'lines',\n",
       "              'name': 'pred',\n",
       "              'orientation': 'v',\n",
       "              'showlegend': True,\n",
       "              'type': 'scatter',\n",
       "              'x': {'bdata': 'AAECAwQFBgcICQoLDA0ODxAREhMUFRYXGBkaGxwdHh8gISIjJCUmJygpKissLS4vMDE=', 'dtype': 'i1'},\n",
       "              'xaxis': 'x',\n",
       "              'y': {'bdata': ('9A0yrE4Fdr8q9XIBazr0P8Jt9/f8pe' ... 'Kza/0/E5B6wYPc47+DBud/tavzvw=='),\n",
       "                    'dtype': 'f8'},\n",
       "              'yaxis': 'y'}],\n",
       "    'frames': [{'data': [{'hovertemplate': 'variable=target<br>object=Object A<br>x=%{x}<br>value=%{y}<extra></extra>',\n",
       "                          'legendgroup': 'target',\n",
       "                          'line': {'color': '#636efa', 'dash': 'solid'},\n",
       "                          'marker': {'symbol': 'circle'},\n",
       "                          'mode': 'lines',\n",
       "                          'name': 'target',\n",
       "                          'orientation': 'v',\n",
       "                          'showlegend': True,\n",
       "                          'type': 'scatter',\n",
       "                          'x': {'bdata': 'AAECAwQFBgcICQoLDA0ODxAREhMUFRYXGBkaGxwdHh8gISIjJCUmJygpKissLS4vMDE=',\n",
       "                                'dtype': 'i1'},\n",
       "                          'xaxis': 'x',\n",
       "                          'y': {'bdata': ('Z6C5XHKUxj/dQVVVO43OP43g+V/LL9' ... 'cLP7o/2oHsVWF81b81jWGe8tDYvw=='),\n",
       "                                'dtype': 'f8'},\n",
       "                          'yaxis': 'y'},\n",
       "                         {'hovertemplate': 'variable=pred_init<br>object=Object A<br>x=%{x}<br>value=%{y}<extra></extra>',\n",
       "                          'legendgroup': 'pred_init',\n",
       "                          'line': {'color': '#EF553B', 'dash': 'solid'},\n",
       "                          'marker': {'symbol': 'circle'},\n",
       "                          'mode': 'lines',\n",
       "                          'name': 'pred_init',\n",
       "                          'orientation': 'v',\n",
       "                          'showlegend': True,\n",
       "                          'type': 'scatter',\n",
       "                          'x': {'bdata': 'AAECAwQFBgcICQoLDA0ODxAREhMUFRYXGBkaGxwdHh8gISIjJCUmJygpKissLS4vMDE=',\n",
       "                                'dtype': 'i1'},\n",
       "                          'xaxis': 'x',\n",
       "                          'y': {'bdata': ('9A0yrE4FZr8q9XIBazrUP8Ft9/f8pd' ... 'Kza90/EpB6wYPc07+DBud/tavTvw=='),\n",
       "                                'dtype': 'f8'},\n",
       "                          'yaxis': 'y'},\n",
       "                         {'hovertemplate': 'variable=pred<br>object=Object A<br>x=%{x}<br>value=%{y}<extra></extra>',\n",
       "                          'legendgroup': 'pred',\n",
       "                          'line': {'color': '#00cc96', 'dash': 'solid'},\n",
       "                          'marker': {'symbol': 'circle'},\n",
       "                          'mode': 'lines',\n",
       "                          'name': 'pred',\n",
       "                          'orientation': 'v',\n",
       "                          'showlegend': True,\n",
       "                          'type': 'scatter',\n",
       "                          'x': {'bdata': 'AAECAwQFBgcICQoLDA0ODxAREhMUFRYXGBkaGxwdHh8gISIjJCUmJygpKissLS4vMDE=',\n",
       "                                'dtype': 'i1'},\n",
       "                          'xaxis': 'x',\n",
       "                          'y': {'bdata': ('9A0yrE4Fdr8q9XIBazr0P8Jt9/f8pe' ... 'Kza/0/E5B6wYPc47+DBud/tavzvw=='),\n",
       "                                'dtype': 'f8'},\n",
       "                          'yaxis': 'y'}],\n",
       "                'name': 'Object A'},\n",
       "               {'data': [{'hovertemplate': 'variable=target<br>object=Object B<br>x=%{x}<br>value=%{y}<extra></extra>',\n",
       "                          'legendgroup': 'target',\n",
       "                          'line': {'color': '#636efa', 'dash': 'solid'},\n",
       "                          'marker': {'symbol': 'circle'},\n",
       "                          'mode': 'lines',\n",
       "                          'name': 'target',\n",
       "                          'orientation': 'v',\n",
       "                          'showlegend': True,\n",
       "                          'type': 'scatter',\n",
       "                          'x': {'bdata': 'AAECAwQFBgcICQoLDA0ODxAREhMUFRYXGBkaGxwdHh8gISIjJCUmJygpKissLS4vMDE=',\n",
       "                                'dtype': 'i1'},\n",
       "                          'xaxis': 'x',\n",
       "                          'y': {'bdata': ('iEzaTLUayD+OFITJUVuwP3+gP+Gqyt' ... 'IUeME/hlFjFieU078uJzd+p2javw=='),\n",
       "                                'dtype': 'f8'},\n",
       "                          'yaxis': 'y'},\n",
       "                         {'hovertemplate': 'variable=pred_init<br>object=Object B<br>x=%{x}<br>value=%{y}<extra></extra>',\n",
       "                          'legendgroup': 'pred_init',\n",
       "                          'line': {'color': '#EF553B', 'dash': 'solid'},\n",
       "                          'marker': {'symbol': 'circle'},\n",
       "                          'mode': 'lines',\n",
       "                          'name': 'pred_init',\n",
       "                          'orientation': 'v',\n",
       "                          'showlegend': True,\n",
       "                          'type': 'scatter',\n",
       "                          'x': {'bdata': 'AAECAwQFBgcICQoLDA0ODxAREhMUFRYXGBkaGxwdHh8gISIjJCUmJygpKissLS4vMDE=',\n",
       "                                'dtype': 'i1'},\n",
       "                          'xaxis': 'x',\n",
       "                          'y': {'bdata': ('gcN34npbxj9dwCl+HAXaPztCMAQFCb' ... 't/RtM/lzHjgK04wD8IBRotPZrCvw=='),\n",
       "                                'dtype': 'f8'},\n",
       "                          'yaxis': 'y'},\n",
       "                         {'hovertemplate': 'variable=pred<br>object=Object B<br>x=%{x}<br>value=%{y}<extra></extra>',\n",
       "                          'legendgroup': 'pred',\n",
       "                          'line': {'color': '#00cc96', 'dash': 'solid'},\n",
       "                          'marker': {'symbol': 'circle'},\n",
       "                          'mode': 'lines',\n",
       "                          'name': 'pred',\n",
       "                          'orientation': 'v',\n",
       "                          'showlegend': True,\n",
       "                          'type': 'scatter',\n",
       "                          'x': {'bdata': 'AAECAwQFBgcICQoLDA0ODxAREhMUFRYXGBkaGxwdHh8gISIjJCUmJygpKissLS4vMDE=',\n",
       "                                'dtype': 'i1'},\n",
       "                          'xaxis': 'x',\n",
       "                          'y': {'bdata': ('YrQVm1ny6z9dwCl+HAXqP2UpniKjJe' ... 't/RuM//f0b4dhG5D8IBRotPZrSvw=='),\n",
       "                                'dtype': 'f8'},\n",
       "                          'yaxis': 'y'}],\n",
       "                'name': 'Object B'},\n",
       "               {'data': [{'hovertemplate': 'variable=target<br>object=Object C<br>x=%{x}<br>value=%{y}<extra></extra>',\n",
       "                          'legendgroup': 'target',\n",
       "                          'line': {'color': '#636efa', 'dash': 'solid'},\n",
       "                          'marker': {'symbol': 'circle'},\n",
       "                          'mode': 'lines',\n",
       "                          'name': 'target',\n",
       "                          'orientation': 'v',\n",
       "                          'showlegend': True,\n",
       "                          'type': 'scatter',\n",
       "                          'x': {'bdata': 'AAECAwQFBgcICQoLDA0ODxAREhMUFRYXGBkaGxwdHh8gISIjJCUmJygpKissLS4vMDE=',\n",
       "                                'dtype': 'i1'},\n",
       "                          'xaxis': 'x',\n",
       "                          'y': {'bdata': ('b/EYsPDmor+CnTVUmV3GP232MpPp9d' ... 'yJ/cA/CD1SNslc0L+uMvXofWvgvw=='),\n",
       "                                'dtype': 'f8'},\n",
       "                          'yaxis': 'y'},\n",
       "                         {'hovertemplate': 'variable=pred_init<br>object=Object C<br>x=%{x}<br>value=%{y}<extra></extra>',\n",
       "                          'legendgroup': 'pred_init',\n",
       "                          'line': {'color': '#EF553B', 'dash': 'solid'},\n",
       "                          'marker': {'symbol': 'circle'},\n",
       "                          'mode': 'lines',\n",
       "                          'name': 'pred_init',\n",
       "                          'orientation': 'v',\n",
       "                          'showlegend': True,\n",
       "                          'type': 'scatter',\n",
       "                          'x': {'bdata': 'AAECAwQFBgcICQoLDA0ODxAREhMUFRYXGBkaGxwdHh8gISIjJCUmJygpKissLS4vMDE=',\n",
       "                                'dtype': 'i1'},\n",
       "                          'xaxis': 'x',\n",
       "                          'y': {'bdata': ('9AKvQDs6sT+r8napdYCuP2AteEKI4+' ... 'f76c8/XTE6WLN51b8tvDBxYhrcvw=='),\n",
       "                                'dtype': 'f8'},\n",
       "                          'yaxis': 'y'},\n",
       "                         {'hovertemplate': 'variable=pred<br>object=Object C<br>x=%{x}<br>value=%{y}<extra></extra>',\n",
       "                          'legendgroup': 'pred',\n",
       "                          'line': {'color': '#00cc96', 'dash': 'solid'},\n",
       "                          'marker': {'symbol': 'circle'},\n",
       "                          'mode': 'lines',\n",
       "                          'name': 'pred',\n",
       "                          'orientation': 'v',\n",
       "                          'showlegend': True,\n",
       "                          'type': 'scatter',\n",
       "                          'x': {'bdata': 'AAECAwQFBgcICQoLDA0ODxAREhMUFRYXGBkaGxwdHh8gISIjJCUmJygpKissLS4vMDE=',\n",
       "                                'dtype': 'i1'},\n",
       "                          'xaxis': 'x',\n",
       "                          'y': {'bdata': ('LX494VjXuT9APOI+WOCmPxBEtGNMVe' ... 'V878c/BqUrgkYb4L9abOvUyRPVvw=='),\n",
       "                                'dtype': 'f8'},\n",
       "                          'yaxis': 'y'}],\n",
       "                'name': 'Object C'}],\n",
       "    'layout': {'legend': {'title': {'text': 'variable'}, 'tracegroupgap': 0},\n",
       "               'margin': {'t': 60},\n",
       "               'sliders': [{'active': 0,\n",
       "                            'currentvalue': {'prefix': 'object='},\n",
       "                            'len': 0.9,\n",
       "                            'pad': {'b': 10, 't': 60},\n",
       "                            'steps': [{'args': [['Object A'], {'frame':\n",
       "                                                {'duration': 0, 'redraw': False},\n",
       "                                                'mode': 'immediate', 'fromcurrent':\n",
       "                                                True, 'transition': {'duration': 0,\n",
       "                                                'easing': 'linear'}}],\n",
       "                                       'label': 'Object A',\n",
       "                                       'method': 'animate'},\n",
       "                                      {'args': [['Object B'], {'frame':\n",
       "                                                {'duration': 0, 'redraw': False},\n",
       "                                                'mode': 'immediate', 'fromcurrent':\n",
       "                                                True, 'transition': {'duration': 0,\n",
       "                                                'easing': 'linear'}}],\n",
       "                                       'label': 'Object B',\n",
       "                                       'method': 'animate'},\n",
       "                                      {'args': [['Object C'], {'frame':\n",
       "                                                {'duration': 0, 'redraw': False},\n",
       "                                                'mode': 'immediate', 'fromcurrent':\n",
       "                                                True, 'transition': {'duration': 0,\n",
       "                                                'easing': 'linear'}}],\n",
       "                                       'label': 'Object C',\n",
       "                                       'method': 'animate'}],\n",
       "                            'x': 0.1,\n",
       "                            'xanchor': 'left',\n",
       "                            'y': 0,\n",
       "                            'yanchor': 'top'}],\n",
       "               'template': '...',\n",
       "               'updatemenus': [{'buttons': [{'args': [None, {'frame': {'duration':\n",
       "                                                      500, 'redraw': False},\n",
       "                                                      'mode': 'immediate',\n",
       "                                                      'fromcurrent': True,\n",
       "                                                      'transition': {'duration':\n",
       "                                                      500, 'easing': 'linear'}}],\n",
       "                                             'label': '&#9654;',\n",
       "                                             'method': 'animate'},\n",
       "                                            {'args': [[None], {'frame':\n",
       "                                                      {'duration': 0, 'redraw':\n",
       "                                                      False}, 'mode': 'immediate',\n",
       "                                                      'fromcurrent': True,\n",
       "                                                      'transition': {'duration': 0,\n",
       "                                                      'easing': 'linear'}}],\n",
       "                                             'label': '&#9724;',\n",
       "                                             'method': 'animate'}],\n",
       "                                'direction': 'left',\n",
       "                                'pad': {'r': 10, 't': 70},\n",
       "                                'showactive': False,\n",
       "                                'type': 'buttons',\n",
       "                                'x': 0.1,\n",
       "                                'xanchor': 'right',\n",
       "                                'y': 0,\n",
       "                                'yanchor': 'top'}],\n",
       "               'xaxis': {'anchor': 'y', 'domain': [0.0, 1.0], 'title': {'text': 'x'}},\n",
       "               'yaxis': {'anchor': 'x', 'domain': [0.0, 1.0], 'title': {'text': 'value'}}}\n",
       "})"
      ]
     },
     "execution_count": 5,
     "metadata": {},
     "output_type": "execute_result"
    }
   ],
   "source": [
    "px.line(\n",
    "    df,\n",
    "    x='x',\n",
    "    y=['target', 'pred_init', 'pred'],\n",
    "    animation_frame='object'\n",
    ")"
   ]
  }
 ],
 "metadata": {
  "kernelspec": {
   "display_name": "movable_graph",
   "language": "python",
   "name": "python3"
  },
  "language_info": {
   "codemirror_mode": {
    "name": "ipython",
    "version": 3
   },
   "file_extension": ".py",
   "mimetype": "text/x-python",
   "name": "python",
   "nbconvert_exporter": "python",
   "pygments_lexer": "ipython3",
   "version": "3.11.13"
  }
 },
 "nbformat": 4,
 "nbformat_minor": 5
}
